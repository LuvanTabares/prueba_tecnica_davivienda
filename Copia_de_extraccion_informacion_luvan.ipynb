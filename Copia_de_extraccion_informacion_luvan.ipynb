{
  "cells": [
    {
      "cell_type": "markdown",
      "metadata": {
        "id": "view-in-github",
        "colab_type": "text"
      },
      "source": [
        "<a href=\"https://colab.research.google.com/github/LuvanTabares/prueba_tecnica_davivienda/blob/main/Copia_de_extraccion_informacion_luvan.ipynb\" target=\"_parent\"><img src=\"https://colab.research.google.com/assets/colab-badge.svg\" alt=\"Open In Colab\"/></a>"
      ]
    },
    {
      "cell_type": "markdown",
      "id": "b70f19f8",
      "metadata": {
        "id": "b70f19f8"
      },
      "source": [
        "<br />\n",
        "<div align=\"center\">\n",
        "  <a href=\"https://www.davivienda.com/wps/portal/personas/nuevo\">\n",
        "    <img src=\"https://upload.wikimedia.org/wikipedia/en/thumb/b/b1/Davivienda_logo.svg/1200px-Davivienda_logo.svg.png\" alt=\"Logo\" width=\"300\" height=\"100\">\n",
        "  </a>\n",
        "\n",
        "  <h2 align=\"center\"> Prueba Técnica Davivienda - Profesional I Data no Estructurada</h2>\n",
        "  <h2 align=\"center\"> Notebook de Implementación</h2>\n",
        "  <h4 align=\"center\"> Luvan Tabares </h4>\n",
        "    \n",
        "***\n",
        "\n",
        "  <p align=\"center\">\n",
        "    Se requiere extraer la información necesaria de gran cantidad de documentos para aumentar la eficiencia operativa, disminuir tiempos de respuesta y mitigar riesgos asociados a los procesos, la información solicitada será el nombre del cliente, la ciudad del cliente, fecha en la que se adquirió el compromiso y el monto que debe pagar. Para este análisis se utilizarán técnicas de procesamiento de lenguaje natural (NLP) para el procesamiento del texto y encontrar la mejor forma de extraer cada información solicitada a partir de un archivo csv que contiene dicha información.  </p>\n",
        "</div>\n",
        "\n",
        "\n",
        "* [1. EDA - Análisis Exploratorio de Datos](#topic1)\n",
        "* [2. Extracción de Nombres](#topic2)\n",
        "* [3. Extracción de Fechas](#topic3)\n",
        "* [4. Extracción de Montos](#topic4)\n",
        "* [5. Extracción de Ciudades](#topic5)\n",
        "* [6. Resultados Finales y Conclusiones](#topic6)\n"
      ]
    },
    {
      "cell_type": "markdown",
      "id": "dc2b1ab4",
      "metadata": {
        "id": "dc2b1ab4"
      },
      "source": [
        "### Instalación de librerías"
      ]
    },
    {
      "cell_type": "markdown",
      "id": "78300d73",
      "metadata": {
        "id": "78300d73"
      },
      "source": [
        "Comandos necesarios para la instalación de las librerías utilizadas en este documento, se utilizó el modelo de lenguaje en español grande de spacy para mejorar la detección de las entidades requeridas"
      ]
    },
    {
      "cell_type": "code",
      "source": [
        "# !pip uninstall pandas\n",
        "# !pip uninstall  spacy\n",
        "# !pip uninstall numpy"
      ],
      "metadata": {
        "id": "TAo5y3BE8pk9"
      },
      "id": "TAo5y3BE8pk9",
      "execution_count": 1,
      "outputs": []
    },
    {
      "cell_type": "markdown",
      "source": [
        "Reiniciar entorno de ejecución"
      ],
      "metadata": {
        "id": "Q9LbXdkJ9DwH"
      },
      "id": "Q9LbXdkJ9DwH"
    },
    {
      "cell_type": "code",
      "execution_count": 2,
      "id": "7633af49",
      "metadata": {
        "scrolled": false,
        "id": "7633af49"
      },
      "outputs": [],
      "source": [
        "# !pip install pandas==1.2.3\n",
        "# !pip install spacy==3.4.4\n",
        "# !pip install numpy\n",
        "# !pip install -U scikit-learn --user\n",
        "# !pip install matplotlib --user\n",
        "# !python -m spacy download es_core_news_lg"
      ]
    },
    {
      "cell_type": "code",
      "source": [],
      "metadata": {
        "id": "tprPIjUA8VTJ"
      },
      "id": "tprPIjUA8VTJ",
      "execution_count": 2,
      "outputs": []
    },
    {
      "cell_type": "markdown",
      "id": "572216f7",
      "metadata": {
        "id": "572216f7"
      },
      "source": [
        "## Librerías necesarias"
      ]
    },
    {
      "cell_type": "markdown",
      "id": "1b5866d0",
      "metadata": {
        "id": "1b5866d0"
      },
      "source": [
        "Las librerías utilizadas serán 'pandas' para el manejo de los archivos csv y su texto, 'spacy' para la tokenización y todos los procesos de nlp que se apliquen, librería 're' para el uso de expresiones regulares, 'datetime' para la manipulación del formato de fechas."
      ]
    },
    {
      "cell_type": "code",
      "execution_count": 3,
      "id": "4f4b3ce9",
      "metadata": {
        "id": "4f4b3ce9",
        "colab": {
          "base_uri": "https://localhost:8080/"
        },
        "outputId": "5bc459fb-b5c3-41f5-da75-fb8a4be605b5"
      },
      "outputs": [
        {
          "output_type": "stream",
          "name": "stderr",
          "text": [
            "/usr/local/lib/python3.8/dist-packages/torch/cuda/__init__.py:497: UserWarning: Can't initialize NVML\n",
            "  warnings.warn(\"Can't initialize NVML\")\n"
          ]
        }
      ],
      "source": [
        "import numpy as np\n",
        "import pandas as pd\n",
        "import spacy\n",
        "import re\n",
        "from datetime import datetime\n",
        "import matplotlib.pyplot as plt\n",
        "from sklearn.feature_extraction.text import CountVectorizer\n",
        "from sklearn.decomposition import LatentDirichletAllocation\n",
        "from scipy.sparse import csr_matrix\n",
        "nlp = spacy.load('es_core_news_lg')\n"
      ]
    },
    {
      "cell_type": "markdown",
      "id": "a93701f5",
      "metadata": {
        "id": "a93701f5"
      },
      "source": [
        "## 1. **EDA - Análisis Exploratorio de Datos**"
      ]
    },
    {
      "cell_type": "markdown",
      "id": "5870d9c6",
      "metadata": {
        "id": "5870d9c6"
      },
      "source": [
        "Comenzar con el análisis de la información suministrada, importar el documento teniendo en cuenta el tipo de separador y dar un vistazo al documento"
      ]
    },
    {
      "cell_type": "code",
      "execution_count": 4,
      "id": "305c0d87",
      "metadata": {
        "id": "305c0d87"
      },
      "outputs": [],
      "source": [
        "df = pd.read_csv('/content/drive/MyDrive/Colab Notebooks/embargos_Luvan_Tabares/database/documentos.csv', '|')"
      ]
    },
    {
      "cell_type": "markdown",
      "id": "7db5ca40",
      "metadata": {
        "id": "7db5ca40"
      },
      "source": [
        "Se observa un documento de dos columnas y 499 filas, dónde la primer columna (indx 0) es el document_name o nombre del documento, que son números asociados a cada texto, y la segunda columna (indx 1) es la que contiene el texto que se debe  procesar."
      ]
    },
    {
      "cell_type": "code",
      "execution_count": 5,
      "id": "12b4815a",
      "metadata": {
        "id": "12b4815a",
        "outputId": "8b5b0dd8-0d3e-4303-9eb5-4b55e7ef30e9",
        "colab": {
          "base_uri": "https://localhost:8080/",
          "height": 206
        }
      },
      "outputs": [
        {
          "output_type": "execute_result",
          "data": {
            "text/plain": [
              "   document_name                                           document\n",
              "0             86    Señor/señora: Daniel Roberto Torres Gómez  L...\n",
              "1            470    Atención: Ana Miguel Jiménez Rodríguez  Le e...\n",
              "2             16    Oiga!!!! Juan Pablo Fernández Muñoz  Esperam...\n",
              "3            165    Querido/a Carlos Miguel Pérez Pérez,  Espera...\n",
              "4            114    Estimadisimo/a Daniel Cristina Rodríguez Gon..."
            ],
            "text/html": [
              "\n",
              "  <div id=\"df-3ea56aea-1ef4-435c-9fee-bd0fad0425c2\">\n",
              "    <div class=\"colab-df-container\">\n",
              "      <div>\n",
              "<style scoped>\n",
              "    .dataframe tbody tr th:only-of-type {\n",
              "        vertical-align: middle;\n",
              "    }\n",
              "\n",
              "    .dataframe tbody tr th {\n",
              "        vertical-align: top;\n",
              "    }\n",
              "\n",
              "    .dataframe thead th {\n",
              "        text-align: right;\n",
              "    }\n",
              "</style>\n",
              "<table border=\"1\" class=\"dataframe\">\n",
              "  <thead>\n",
              "    <tr style=\"text-align: right;\">\n",
              "      <th></th>\n",
              "      <th>document_name</th>\n",
              "      <th>document</th>\n",
              "    </tr>\n",
              "  </thead>\n",
              "  <tbody>\n",
              "    <tr>\n",
              "      <th>0</th>\n",
              "      <td>86</td>\n",
              "      <td>Señor/señora: Daniel Roberto Torres Gómez  L...</td>\n",
              "    </tr>\n",
              "    <tr>\n",
              "      <th>1</th>\n",
              "      <td>470</td>\n",
              "      <td>Atención: Ana Miguel Jiménez Rodríguez  Le e...</td>\n",
              "    </tr>\n",
              "    <tr>\n",
              "      <th>2</th>\n",
              "      <td>16</td>\n",
              "      <td>Oiga!!!! Juan Pablo Fernández Muñoz  Esperam...</td>\n",
              "    </tr>\n",
              "    <tr>\n",
              "      <th>3</th>\n",
              "      <td>165</td>\n",
              "      <td>Querido/a Carlos Miguel Pérez Pérez,  Espera...</td>\n",
              "    </tr>\n",
              "    <tr>\n",
              "      <th>4</th>\n",
              "      <td>114</td>\n",
              "      <td>Estimadisimo/a Daniel Cristina Rodríguez Gon...</td>\n",
              "    </tr>\n",
              "  </tbody>\n",
              "</table>\n",
              "</div>\n",
              "      <button class=\"colab-df-convert\" onclick=\"convertToInteractive('df-3ea56aea-1ef4-435c-9fee-bd0fad0425c2')\"\n",
              "              title=\"Convert this dataframe to an interactive table.\"\n",
              "              style=\"display:none;\">\n",
              "        \n",
              "  <svg xmlns=\"http://www.w3.org/2000/svg\" height=\"24px\"viewBox=\"0 0 24 24\"\n",
              "       width=\"24px\">\n",
              "    <path d=\"M0 0h24v24H0V0z\" fill=\"none\"/>\n",
              "    <path d=\"M18.56 5.44l.94 2.06.94-2.06 2.06-.94-2.06-.94-.94-2.06-.94 2.06-2.06.94zm-11 1L8.5 8.5l.94-2.06 2.06-.94-2.06-.94L8.5 2.5l-.94 2.06-2.06.94zm10 10l.94 2.06.94-2.06 2.06-.94-2.06-.94-.94-2.06-.94 2.06-2.06.94z\"/><path d=\"M17.41 7.96l-1.37-1.37c-.4-.4-.92-.59-1.43-.59-.52 0-1.04.2-1.43.59L10.3 9.45l-7.72 7.72c-.78.78-.78 2.05 0 2.83L4 21.41c.39.39.9.59 1.41.59.51 0 1.02-.2 1.41-.59l7.78-7.78 2.81-2.81c.8-.78.8-2.07 0-2.86zM5.41 20L4 18.59l7.72-7.72 1.47 1.35L5.41 20z\"/>\n",
              "  </svg>\n",
              "      </button>\n",
              "      \n",
              "  <style>\n",
              "    .colab-df-container {\n",
              "      display:flex;\n",
              "      flex-wrap:wrap;\n",
              "      gap: 12px;\n",
              "    }\n",
              "\n",
              "    .colab-df-convert {\n",
              "      background-color: #E8F0FE;\n",
              "      border: none;\n",
              "      border-radius: 50%;\n",
              "      cursor: pointer;\n",
              "      display: none;\n",
              "      fill: #1967D2;\n",
              "      height: 32px;\n",
              "      padding: 0 0 0 0;\n",
              "      width: 32px;\n",
              "    }\n",
              "\n",
              "    .colab-df-convert:hover {\n",
              "      background-color: #E2EBFA;\n",
              "      box-shadow: 0px 1px 2px rgba(60, 64, 67, 0.3), 0px 1px 3px 1px rgba(60, 64, 67, 0.15);\n",
              "      fill: #174EA6;\n",
              "    }\n",
              "\n",
              "    [theme=dark] .colab-df-convert {\n",
              "      background-color: #3B4455;\n",
              "      fill: #D2E3FC;\n",
              "    }\n",
              "\n",
              "    [theme=dark] .colab-df-convert:hover {\n",
              "      background-color: #434B5C;\n",
              "      box-shadow: 0px 1px 3px 1px rgba(0, 0, 0, 0.15);\n",
              "      filter: drop-shadow(0px 1px 2px rgba(0, 0, 0, 0.3));\n",
              "      fill: #FFFFFF;\n",
              "    }\n",
              "  </style>\n",
              "\n",
              "      <script>\n",
              "        const buttonEl =\n",
              "          document.querySelector('#df-3ea56aea-1ef4-435c-9fee-bd0fad0425c2 button.colab-df-convert');\n",
              "        buttonEl.style.display =\n",
              "          google.colab.kernel.accessAllowed ? 'block' : 'none';\n",
              "\n",
              "        async function convertToInteractive(key) {\n",
              "          const element = document.querySelector('#df-3ea56aea-1ef4-435c-9fee-bd0fad0425c2');\n",
              "          const dataTable =\n",
              "            await google.colab.kernel.invokeFunction('convertToInteractive',\n",
              "                                                     [key], {});\n",
              "          if (!dataTable) return;\n",
              "\n",
              "          const docLinkHtml = 'Like what you see? Visit the ' +\n",
              "            '<a target=\"_blank\" href=https://colab.research.google.com/notebooks/data_table.ipynb>data table notebook</a>'\n",
              "            + ' to learn more about interactive tables.';\n",
              "          element.innerHTML = '';\n",
              "          dataTable['output_type'] = 'display_data';\n",
              "          await google.colab.output.renderOutput(dataTable, element);\n",
              "          const docLink = document.createElement('div');\n",
              "          docLink.innerHTML = docLinkHtml;\n",
              "          element.appendChild(docLink);\n",
              "        }\n",
              "      </script>\n",
              "    </div>\n",
              "  </div>\n",
              "  "
            ]
          },
          "metadata": {},
          "execution_count": 5
        }
      ],
      "source": [
        "df.head()"
      ]
    },
    {
      "cell_type": "code",
      "execution_count": 6,
      "id": "9eac3b3a",
      "metadata": {
        "scrolled": false,
        "id": "9eac3b3a",
        "outputId": "f6398a7f-aff9-48e4-dc70-39410426101b",
        "colab": {
          "base_uri": "https://localhost:8080/"
        }
      },
      "outputs": [
        {
          "output_type": "execute_result",
          "data": {
            "text/plain": [
              "(499, 2)"
            ]
          },
          "metadata": {},
          "execution_count": 6
        }
      ],
      "source": [
        "df.shape"
      ]
    },
    {
      "cell_type": "markdown",
      "id": "ed8787d9",
      "metadata": {
        "id": "ed8787d9"
      },
      "source": [
        "Al analizar uno de los textos se observa que se encuentra la información de interés como nombre, fecha, monto y ciudad, el orden de estos no siempre es así, teniendo casos en los que el nombre se encuentra al final o no existe una ciudad de residencia."
      ]
    },
    {
      "cell_type": "code",
      "execution_count": 7,
      "id": "37fc3b3b",
      "metadata": {
        "scrolled": false,
        "id": "37fc3b3b",
        "outputId": "20c03730-0607-4ce7-f0ad-cd0e46fa7e89",
        "colab": {
          "base_uri": "https://localhost:8080/",
          "height": 109
        }
      },
      "outputs": [
        {
          "output_type": "execute_result",
          "data": {
            "text/plain": [
              "'  Atención: Ana Miguel Jiménez Rodríguez  Le escribimos para informarle que tiene un saldo a favor nuestro de £ 6,487,447,022.84 en su cuenta con nuestra empresa. Como puede recordar, tomó un préstamo con nosotros para   adquirir un auto de lujo Bentley Aventador en San Andrés. A pesar de múltiples intentos de ponerse en contacto con usted y recordarle su deuda pendiente, no hemos recibido ninguna respuesta   ni pago de su parte. Por lo tanto, solicitamos que devuelva el auto a nosotros o pague la totalidad de su deuda lo antes posible. Si no toma medidas en este asunto,   nos veremos obligados a iniciar acciones legales para recuperar la totalidad de su deuda.     Le instamos a que se ponga en contacto con nosotros lo antes posible para   discutir acuerdos de pago y evitar acciones legales adicionales, su deuda esta desde el 01/22/2016.     Si está experimentando dificultades financieras y no puede pagar la   totalidad de su deuda en este momento, no dude en ponerse en contacto con nosotros para discutir acuerdos de pago. Estamos dispuestos a trabajar con usted para   encontrar una solución justa y razonable para ambas partes.  Esperamos tener noticias suyas pronto y organizar una sesión de yoga y meditación colectiva para calmar los ánimos y encontrar una solución sana y equilibrada a este asunto.  Fake Incorporated quiere recordarle de manera amistosa que es hora de ponerse al día con sus pagos. ¡No se preocupe, tenemos muchas opciones   para ayudarle a encontrar una solución que funcione para usted!    Gracias por su atención oportuna a este asunto.  Globex Industries  Dirección Avenida mentira 456, Bogotá, Colombia  Teléfono +57 363 4381826  website www.globex_industries.com.co    '"
            ],
            "application/vnd.google.colaboratory.intrinsic+json": {
              "type": "string"
            }
          },
          "metadata": {},
          "execution_count": 7
        }
      ],
      "source": [
        "df['document'][1] # Exploramos uno de los textos a analizar"
      ]
    },
    {
      "cell_type": "markdown",
      "id": "c8788ada",
      "metadata": {
        "id": "c8788ada"
      },
      "source": [
        "## Estudio de palabras"
      ]
    },
    {
      "cell_type": "markdown",
      "metadata": {
        "id": "VbuJetjB62bU"
      },
      "source": [
        "Para este análisis se llamarán las Stop Words a una variable stopwords para un manejo más simple, pero sólo será utilizado en este apartado"
      ],
      "id": "VbuJetjB62bU"
    },
    {
      "cell_type": "code",
      "execution_count": 8,
      "metadata": {
        "id": "8qTyPUwi62bU"
      },
      "outputs": [],
      "source": [
        "stopwords = nlp.Defaults.stop_words"
      ],
      "id": "8qTyPUwi62bU"
    },
    {
      "cell_type": "markdown",
      "metadata": {
        "id": "fNxYXV_G62bV"
      },
      "source": [
        "Se crea la variable stopwords"
      ],
      "id": "fNxYXV_G62bV"
    },
    {
      "cell_type": "code",
      "execution_count": 9,
      "id": "7ca2739c",
      "metadata": {
        "id": "7ca2739c"
      },
      "outputs": [],
      "source": [
        "n_vocab=1500\n",
        "tf_vectorizer = CountVectorizer(max_df=0.8, min_df=2, max_features=n_vocab, stop_words=list(stopwords), ngram_range=(1,3)) # Al igual que un modelo, defino el objeto que construirá la matriz\n",
        "tf = tf_vectorizer.fit_transform(df.document)\n",
        "tf_feature_names = tf_vectorizer.get_feature_names_out() "
      ]
    },
    {
      "cell_type": "code",
      "execution_count": 10,
      "id": "0cf86840",
      "metadata": {
        "id": "0cf86840"
      },
      "outputs": [],
      "source": [
        "TF_detallada=pd.DataFrame(csr_matrix(tf).todense(), columns=tf_feature_names)"
      ]
    },
    {
      "cell_type": "code",
      "execution_count": 11,
      "id": "d449c34f",
      "metadata": {
        "scrolled": true,
        "id": "d449c34f",
        "outputId": "aacbeec6-bfe8-404d-da11-b0584265fe66",
        "colab": {
          "base_uri": "https://localhost:8080/",
          "height": 519
        }
      },
      "outputs": [
        {
          "output_type": "execute_result",
          "data": {
            "text/plain": [
              "                    Freq\n",
              "legales              720\n",
              "monto                630\n",
              "contacto             618\n",
              "monto deuda          530\n",
              "encontrar            498\n",
              "encontrar solución   498\n",
              "solución             498\n",
              "acciones legales     460\n",
              "acciones             460\n",
              "ponerse              457\n",
              "medidas              400\n",
              "asunto               399\n",
              "website www          390\n",
              "website              390\n",
              "contacto discutir    389"
            ],
            "text/html": [
              "\n",
              "  <div id=\"df-4409113d-e249-4a58-afa2-d64c36eb2c16\">\n",
              "    <div class=\"colab-df-container\">\n",
              "      <div>\n",
              "<style scoped>\n",
              "    .dataframe tbody tr th:only-of-type {\n",
              "        vertical-align: middle;\n",
              "    }\n",
              "\n",
              "    .dataframe tbody tr th {\n",
              "        vertical-align: top;\n",
              "    }\n",
              "\n",
              "    .dataframe thead th {\n",
              "        text-align: right;\n",
              "    }\n",
              "</style>\n",
              "<table border=\"1\" class=\"dataframe\">\n",
              "  <thead>\n",
              "    <tr style=\"text-align: right;\">\n",
              "      <th></th>\n",
              "      <th>Freq</th>\n",
              "    </tr>\n",
              "  </thead>\n",
              "  <tbody>\n",
              "    <tr>\n",
              "      <th>legales</th>\n",
              "      <td>720</td>\n",
              "    </tr>\n",
              "    <tr>\n",
              "      <th>monto</th>\n",
              "      <td>630</td>\n",
              "    </tr>\n",
              "    <tr>\n",
              "      <th>contacto</th>\n",
              "      <td>618</td>\n",
              "    </tr>\n",
              "    <tr>\n",
              "      <th>monto deuda</th>\n",
              "      <td>530</td>\n",
              "    </tr>\n",
              "    <tr>\n",
              "      <th>encontrar</th>\n",
              "      <td>498</td>\n",
              "    </tr>\n",
              "    <tr>\n",
              "      <th>encontrar solución</th>\n",
              "      <td>498</td>\n",
              "    </tr>\n",
              "    <tr>\n",
              "      <th>solución</th>\n",
              "      <td>498</td>\n",
              "    </tr>\n",
              "    <tr>\n",
              "      <th>acciones legales</th>\n",
              "      <td>460</td>\n",
              "    </tr>\n",
              "    <tr>\n",
              "      <th>acciones</th>\n",
              "      <td>460</td>\n",
              "    </tr>\n",
              "    <tr>\n",
              "      <th>ponerse</th>\n",
              "      <td>457</td>\n",
              "    </tr>\n",
              "    <tr>\n",
              "      <th>medidas</th>\n",
              "      <td>400</td>\n",
              "    </tr>\n",
              "    <tr>\n",
              "      <th>asunto</th>\n",
              "      <td>399</td>\n",
              "    </tr>\n",
              "    <tr>\n",
              "      <th>website www</th>\n",
              "      <td>390</td>\n",
              "    </tr>\n",
              "    <tr>\n",
              "      <th>website</th>\n",
              "      <td>390</td>\n",
              "    </tr>\n",
              "    <tr>\n",
              "      <th>contacto discutir</th>\n",
              "      <td>389</td>\n",
              "    </tr>\n",
              "  </tbody>\n",
              "</table>\n",
              "</div>\n",
              "      <button class=\"colab-df-convert\" onclick=\"convertToInteractive('df-4409113d-e249-4a58-afa2-d64c36eb2c16')\"\n",
              "              title=\"Convert this dataframe to an interactive table.\"\n",
              "              style=\"display:none;\">\n",
              "        \n",
              "  <svg xmlns=\"http://www.w3.org/2000/svg\" height=\"24px\"viewBox=\"0 0 24 24\"\n",
              "       width=\"24px\">\n",
              "    <path d=\"M0 0h24v24H0V0z\" fill=\"none\"/>\n",
              "    <path d=\"M18.56 5.44l.94 2.06.94-2.06 2.06-.94-2.06-.94-.94-2.06-.94 2.06-2.06.94zm-11 1L8.5 8.5l.94-2.06 2.06-.94-2.06-.94L8.5 2.5l-.94 2.06-2.06.94zm10 10l.94 2.06.94-2.06 2.06-.94-2.06-.94-.94-2.06-.94 2.06-2.06.94z\"/><path d=\"M17.41 7.96l-1.37-1.37c-.4-.4-.92-.59-1.43-.59-.52 0-1.04.2-1.43.59L10.3 9.45l-7.72 7.72c-.78.78-.78 2.05 0 2.83L4 21.41c.39.39.9.59 1.41.59.51 0 1.02-.2 1.41-.59l7.78-7.78 2.81-2.81c.8-.78.8-2.07 0-2.86zM5.41 20L4 18.59l7.72-7.72 1.47 1.35L5.41 20z\"/>\n",
              "  </svg>\n",
              "      </button>\n",
              "      \n",
              "  <style>\n",
              "    .colab-df-container {\n",
              "      display:flex;\n",
              "      flex-wrap:wrap;\n",
              "      gap: 12px;\n",
              "    }\n",
              "\n",
              "    .colab-df-convert {\n",
              "      background-color: #E8F0FE;\n",
              "      border: none;\n",
              "      border-radius: 50%;\n",
              "      cursor: pointer;\n",
              "      display: none;\n",
              "      fill: #1967D2;\n",
              "      height: 32px;\n",
              "      padding: 0 0 0 0;\n",
              "      width: 32px;\n",
              "    }\n",
              "\n",
              "    .colab-df-convert:hover {\n",
              "      background-color: #E2EBFA;\n",
              "      box-shadow: 0px 1px 2px rgba(60, 64, 67, 0.3), 0px 1px 3px 1px rgba(60, 64, 67, 0.15);\n",
              "      fill: #174EA6;\n",
              "    }\n",
              "\n",
              "    [theme=dark] .colab-df-convert {\n",
              "      background-color: #3B4455;\n",
              "      fill: #D2E3FC;\n",
              "    }\n",
              "\n",
              "    [theme=dark] .colab-df-convert:hover {\n",
              "      background-color: #434B5C;\n",
              "      box-shadow: 0px 1px 3px 1px rgba(0, 0, 0, 0.15);\n",
              "      filter: drop-shadow(0px 1px 2px rgba(0, 0, 0, 0.3));\n",
              "      fill: #FFFFFF;\n",
              "    }\n",
              "  </style>\n",
              "\n",
              "      <script>\n",
              "        const buttonEl =\n",
              "          document.querySelector('#df-4409113d-e249-4a58-afa2-d64c36eb2c16 button.colab-df-convert');\n",
              "        buttonEl.style.display =\n",
              "          google.colab.kernel.accessAllowed ? 'block' : 'none';\n",
              "\n",
              "        async function convertToInteractive(key) {\n",
              "          const element = document.querySelector('#df-4409113d-e249-4a58-afa2-d64c36eb2c16');\n",
              "          const dataTable =\n",
              "            await google.colab.kernel.invokeFunction('convertToInteractive',\n",
              "                                                     [key], {});\n",
              "          if (!dataTable) return;\n",
              "\n",
              "          const docLinkHtml = 'Like what you see? Visit the ' +\n",
              "            '<a target=\"_blank\" href=https://colab.research.google.com/notebooks/data_table.ipynb>data table notebook</a>'\n",
              "            + ' to learn more about interactive tables.';\n",
              "          element.innerHTML = '';\n",
              "          dataTable['output_type'] = 'display_data';\n",
              "          await google.colab.output.renderOutput(dataTable, element);\n",
              "          const docLink = document.createElement('div');\n",
              "          docLink.innerHTML = docLinkHtml;\n",
              "          element.appendChild(docLink);\n",
              "        }\n",
              "      </script>\n",
              "    </div>\n",
              "  </div>\n",
              "  "
            ]
          },
          "metadata": {},
          "execution_count": 11
        }
      ],
      "source": [
        "frecuencias=pd.DataFrame(TF_detallada.sum(), index=tf_feature_names, columns=['Freq'])\n",
        "frecuencias.sort_values(by=['Freq'], ascending=False, inplace=True)\n",
        "frecuencias.head(15)"
      ]
    },
    {
      "cell_type": "markdown",
      "metadata": {
        "id": "YRKRB4Ez62bV"
      },
      "source": [
        "Se obtienen las palabras más comunes que no sean Stop Words, con esta información se podría estar contemplando eliminar manualmente o agregar estas palabras a las Stop Words para sacarlas del texto, lastimosamente esto se intentó pero no se vió mejoría en los resultados obtenidos."
      ],
      "id": "YRKRB4Ez62bV"
    },
    {
      "cell_type": "code",
      "execution_count": 12,
      "id": "059d87a6",
      "metadata": {
        "scrolled": false,
        "id": "059d87a6",
        "outputId": "4d0f78b8-0a30-42ec-f532-6f458880c5cf",
        "colab": {
          "base_uri": "https://localhost:8080/",
          "height": 500
        }
      },
      "outputs": [
        {
          "output_type": "execute_result",
          "data": {
            "text/plain": [
              "<matplotlib.axes._subplots.AxesSubplot at 0x7fab7b5eecd0>"
            ]
          },
          "metadata": {},
          "execution_count": 12
        },
        {
          "output_type": "display_data",
          "data": {
            "text/plain": [
              "<Figure size 864x432 with 1 Axes>"
            ],
            "image/png": "[encoded data removed]"
          },
          "metadata": {
            "needs_background": "light"
          }
        }
      ],
      "source": [
        "frecuencias.head(30).plot(kind='bar', figsize=(12,6))"
      ]
    },
    {
      "cell_type": "markdown",
      "metadata": {
        "id": "JmxtFwaL62bW"
      },
      "source": [
        "Se presenta una tabla con las palabras más comunes"
      ],
      "id": "JmxtFwaL62bW"
    },
    {
      "cell_type": "markdown",
      "id": "c4e4f63b",
      "metadata": {
        "id": "c4e4f63b"
      },
      "source": [
        "## Funciones necesarias"
      ]
    },
    {
      "cell_type": "markdown",
      "id": "553d8980",
      "metadata": {
        "id": "553d8980"
      },
      "source": [
        "Dentro de la teoría básica de procesamiento de lenguaje natural se cuenta con las siguientes opciones de preprocesamiento:</b>\n",
        "\n",
        " 1. Tokenización \n",
        " 2. Convertir texto a minúsculas \n",
        " 3. Remover palabras de parada/artículos (Stop Words)\n",
        " 4. Remover puntuación\n",
        " 5. Estemización\n",
        " 6. Lematización\n",
        "\n",
        "Para la tokenización se usará la librería 'spacy' y siempre se necesitará tokenizar el texto para su análisis, las otras opciones de preprocesamiento pueden ser usadas o no dependiendo de cómo se comporte el modelo, ya que para el análisis de este documento se observó que convertir a minúsculas llevaba a un error mayor en la identificación de las palabras (NER) y para cierta extracción de información se pueden usar diferentes combinaciones de preprocesamiento."
      ]
    },
    {
      "cell_type": "code",
      "execution_count": 13,
      "id": "40640382",
      "metadata": {
        "id": "40640382"
      },
      "outputs": [],
      "source": [
        "def remove_url(text):\n",
        "    doc = nlp(text)\n",
        "    return ' '.join([token.text for token in doc if not token.like_url])\n",
        "\n",
        "def remove_stop(text):\n",
        "    doc = nlp(text)\n",
        "    return ' '.join([token.text for token in doc if not token.is_stop])\n"
      ]
    },
    {
      "cell_type": "markdown",
      "id": "9ef5ab3c",
      "metadata": {
        "id": "9ef5ab3c"
      },
      "source": [
        "Para este caso de análisis se observó que remover puntuación, convertir a minúsculas y lematizar empeoraban la capacidad de detección de entidades (NER) de spacy, muy probablemente por que para la detección analiza si las palabras empiezan por letra mayúscula y la puntuación y no lematizar le ayuda a detectar mejor el contexto. No se contempló usar estemización ya que conlleva a la creación de palabras que no existen en el idioma, en un intento de obtener la raíz de la palabra."
      ]
    },
    {
      "cell_type": "markdown",
      "id": "0fe00c71",
      "metadata": {
        "id": "0fe00c71"
      },
      "source": [
        "# 2. Extracción de Nombres"
      ]
    },
    {
      "cell_type": "markdown",
      "id": "50abbe0f",
      "metadata": {
        "id": "50abbe0f"
      },
      "source": [
        "Como primer paso del preoceso se realizará la extracción de los nombres presentes en el documento, la librería spacy los detectará con la etiqueta 'PER' y analizando los documentos se observó que los nombres empiezan por letra mayúscula y son nombre compuestos, es decir dos nombres dos apellidos, pero se tuvo en cuenta el caso de personas con un sólo nombre"
      ]
    },
    {
      "cell_type": "code",
      "execution_count": 14,
      "id": "c8832199",
      "metadata": {
        "id": "c8832199"
      },
      "outputs": [],
      "source": [
        "nlp.Defaults.stop_words.add('hola')\n",
        "nlp.Defaults.stop_words.add('estimado')\n",
        "nlp.Defaults.stop_words.add('estimada')\n",
        "nlp.Defaults.stop_words.add('estimadísimo')\n",
        "nlp.Defaults.stop_words.add('estimadísima')\n",
        "nlp.Defaults.stop_words.add('don')\n",
        "nlp.Defaults.stop_words.add('doña')\n",
        "nlp.Defaults.stop_words.add('amigo')\n",
        "nlp.Defaults.stop_words.add('amiga')\n",
        "nlp.Defaults.stop_words.add('esperamos')\n",
        "nlp.Defaults.stop_words.add('queridísimo')\n",
        "nlp.Defaults.stop_words.add('queridísima')\n"
      ]
    },
    {
      "cell_type": "code",
      "execution_count": 15,
      "id": "1fd55708",
      "metadata": {
        "id": "1fd55708"
      },
      "outputs": [],
      "source": [
        "df[\"text_nlp\"] = df[\"document\"].str.replace('oiga', '')"
      ]
    },
    {
      "cell_type": "markdown",
      "id": "418d2a77",
      "metadata": {
        "id": "418d2a77"
      },
      "source": [
        "En las dos celdas de arriba se empezó a agregar palabras que interferían con la detección de spacy y que se podrían considerar como Stop Words para este análisis ya que no nos suministran información relevante, la palabra oiga no estaba siendo eliminada usando la remoción de stop words por lo que se utilizó un replace para eliminarla forzosamente."
      ]
    },
    {
      "cell_type": "code",
      "execution_count": 16,
      "id": "cc92bd0f",
      "metadata": {
        "id": "cc92bd0f"
      },
      "outputs": [],
      "source": [
        "df[\"text_nlp\"] = df[\"text_nlp\"].apply(remove_stop)"
      ]
    },
    {
      "cell_type": "markdown",
      "id": "595d24ce",
      "metadata": {
        "id": "595d24ce"
      },
      "source": [
        "La eliminación de la palabra 'oiga' también permite crear una nueva columna para la manipulación de la información sin cambiar el texto original y poder llamarlo de nuevo en caso de ser necesario, y ahora si se aplica la remoción de Stop_Words"
      ]
    },
    {
      "cell_type": "code",
      "execution_count": 17,
      "id": "b21cdff0",
      "metadata": {
        "id": "b21cdff0"
      },
      "outputs": [],
      "source": [
        "names4 = r'[A-ZÁÉÍÓÚÑa-záéíóúñ]+\\s[A-ZÁÉÍÓÚÑa-záéíóúñ]+\\s[A-ZÁÉÍÓÚÑa-záéíóúñ]+\\s[A-ZÁÉÍÓÚÑa-záéíóúñ]+'"
      ]
    },
    {
      "cell_type": "code",
      "execution_count": 18,
      "id": "ab54c88b",
      "metadata": {
        "id": "ab54c88b"
      },
      "outputs": [],
      "source": [
        "names3 = r'[A-ZÁÉÍÓÚÑa-záéíóúñ]+\\s[A-ZÁÉÍÓÚÑa-záéíóúñ]+\\s[A-ZÁÉÍÓÚÑa-záéíóúñ]+'"
      ]
    },
    {
      "cell_type": "markdown",
      "id": "de56d6b6",
      "metadata": {
        "id": "de56d6b6"
      },
      "source": [
        "Como se mencionó anteriormente se consideró que existen dos tipos dfe nombres (compuestos y simples), dónde los compuestos tendrán 4 palabras que empizan por letra mayúscula y los simples lo mismo pero con 3 palabras. Se tuvo en cuenta tíldes y la letra ñ propios de el lenguiaje españopl."
      ]
    },
    {
      "cell_type": "code",
      "execution_count": 19,
      "id": "2ea6ffc1",
      "metadata": {
        "id": "2ea6ffc1"
      },
      "outputs": [],
      "source": [
        "def extract_names(text):\n",
        "            \n",
        "    doc = nlp(text)  \n",
        "\n",
        "    for ent in doc.ents:          \n",
        "        if ent.label_ == \"PER\":\n",
        "            if re.search(names4, ent.text) or re.search(names3, ent.text):\n",
        "                q = ent.text.replace('   carta', '').replace('¡ !', '').replace('   ', '')\n",
        "\n",
        "                name = q\n",
        "                                   \n",
        "                break\n",
        "            else:\n",
        "                name = 'No encontrado'\n",
        "\n",
        "        else:\n",
        "            continue\n",
        "\n",
        "    return name"
      ]
    },
    {
      "cell_type": "markdown",
      "id": "6f3be421",
      "metadata": {
        "id": "6f3be421"
      },
      "source": [
        "La función extract_names recibirá el texto correspondiente a cada fila y aplicará tokenización (nlp(text)), al tokenizar se pueden usar las funciones de spacy y convierte el texto str a una lista con cada palabra o grupo de palabras tokenizadas, en dónde spacy le dará unas etiquetas o TAG's conociendo que la etiqueta de personas o nombres se llama 'PER' se busca en la lista cada token que tenga la etiqueta PER y se revisa si tienen la forma de un nombre simple o compuesto y se realiza una limpieza final de algunos elementos que tomaba como parte de la etiqueta. En caso de que no encuentre un token que satisfaga las condiciones devolverá 'No encontrado'"
      ]
    },
    {
      "cell_type": "code",
      "execution_count": 20,
      "metadata": {
        "id": "KavonoqW62bY"
      },
      "outputs": [],
      "source": [
        "df['nombre_cliente'] = df['text_nlp'].apply(extract_names)"
      ],
      "id": "KavonoqW62bY"
    },
    {
      "cell_type": "markdown",
      "metadata": {
        "id": "bIeF4In562bY"
      },
      "source": [
        "Es conveniente aplicar ahora la función para extraer el nombre ya que en la próxima función se reescribirá la columna 'text_nlp' y para una mejor extracción de la información se debe preparar el texto como se mencionó anteriormente."
      ],
      "id": "bIeF4In562bY"
    },
    {
      "cell_type": "markdown",
      "id": "f4d4b49e",
      "metadata": {
        "id": "f4d4b49e"
      },
      "source": [
        "## 3. Extracción de Fechas"
      ]
    },
    {
      "cell_type": "markdown",
      "id": "6c74a30a",
      "metadata": {
        "id": "6c74a30a"
      },
      "source": [
        "Para la extracción de las fechas se observó mejor comportamiento al usar de nuevo el documento desde el principio, por lo que se reescribirá la columna 'text_nlp' del csv por una no procesada, cuyo único preprocesamiento será la eliminación de espacios alargados en el texto"
      ]
    },
    {
      "cell_type": "code",
      "execution_count": 21,
      "id": "e190bd48",
      "metadata": {
        "id": "e190bd48"
      },
      "outputs": [],
      "source": [
        "df[\"text_nlp\"] = df[\"document\"].str.replace(r'\\s+', ' ', regex=True)"
      ]
    },
    {
      "cell_type": "markdown",
      "id": "94c944e1",
      "metadata": {
        "id": "94c944e1"
      },
      "source": [
        "Se eliminan los espacios alargados en el texto"
      ]
    },
    {
      "cell_type": "code",
      "execution_count": 22,
      "id": "c47d2e5c",
      "metadata": {
        "id": "c47d2e5c"
      },
      "outputs": [],
      "source": [
        "fechapat = r'([\\d]{4}(\\-|\\/|\\_)[\\d]{2}(\\-|\\/|\\_)[\\d]{2})|([\\d]{2}(\\-|\\/|\\_)[\\d]{2}(\\-|\\/|\\_)[\\d]{4})'"
      ]
    },
    {
      "cell_type": "markdown",
      "id": "4977cdd4",
      "metadata": {
        "id": "4977cdd4"
      },
      "source": [
        "Este es el regex propuesto para la detección de las fechas, revisando algunos documentos se observó que tenían dos formatos, AÑO-mes-día y mes/día/AÑO, por lo que el regex detecta si es primer o segundo patrón y dependiendo de qué patrón muestre la fecha se procesará."
      ]
    },
    {
      "cell_type": "code",
      "execution_count": 23,
      "id": "4c57da8d",
      "metadata": {
        "id": "4c57da8d"
      },
      "outputs": [],
      "source": [
        "def extract_date(text):\n",
        "\n",
        "\n",
        "    match = re.search(fechapat, text)\n",
        "\n",
        "    \n",
        "    number = match.group()\n",
        "    \n",
        "    if number:\n",
        "        if \"-\" in number:\n",
        "\n",
        "            date = datetime.strptime(number, \"%Y-%m-%d\")\n",
        "\n",
        "        else:\n",
        "\n",
        "            date = datetime.strptime(number, \"%m/%d/%Y\")\n",
        "\n",
        "\n",
        "        year = date.year\n",
        "        month = date.month\n",
        "        day = date.day    \n",
        "\n",
        "\n",
        "        today = datetime(year, month, day) #(YEAR, MONTH, DAY)\n",
        "\n",
        "        fchas = f'{today:%Y}-{today:%m}-{today:%d}'\n",
        "    \n",
        "    else:\n",
        "        fchas = 'No encontrado'\n",
        "    \n",
        "    \n",
        "    \n",
        "       \n",
        "    return fchas\n",
        "    "
      ]
    },
    {
      "cell_type": "markdown",
      "id": "5499c89a",
      "metadata": {
        "id": "5499c89a"
      },
      "source": [
        "Este código analizará si en el texto existe un patrón de fecha anteriormente mencionado, si existe extraerá la fecha y será procesada dependiendo del formato, una vez se procesa se obtiene el año, el mes y el día usando datetime. Ahora que tenemos separado quién es año, mes y día se vuelve a usar datetime y se escribe con el formato solicitado AÑO-mes-día, en caso de no encontrar un patrón devolverá 'No encontrado'"
      ]
    },
    {
      "cell_type": "code",
      "execution_count": 24,
      "metadata": {
        "id": "XKFMJ0Mz62bZ"
      },
      "outputs": [],
      "source": [
        "df['fecha'] = df['text_nlp'].apply(extract_date)"
      ],
      "id": "XKFMJ0Mz62bZ"
    },
    {
      "cell_type": "markdown",
      "metadata": {
        "id": "-yHBKoYh62bZ"
      },
      "source": [
        "Como en el caso anterior es mejor aplicar la función "
      ],
      "id": "-yHBKoYh62bZ"
    },
    {
      "cell_type": "markdown",
      "id": "8496ea5e",
      "metadata": {
        "id": "8496ea5e"
      },
      "source": [
        "## 4. Extracción de Montos"
      ]
    },
    {
      "cell_type": "markdown",
      "id": "21ca2b20",
      "metadata": {
        "id": "21ca2b20"
      },
      "source": [
        "Para la extracción de montos se utilizará el mismo texto que en el caso de fechas"
      ]
    },
    {
      "cell_type": "code",
      "execution_count": 25,
      "id": "1fd63f14",
      "metadata": {
        "id": "1fd63f14"
      },
      "outputs": [],
      "source": [
        "numpat = r'[\\d]{0,3}(\\,|\\.)?[\\d]{0,3}(\\,|\\.)?[\\d]{0,3}(\\,|\\.)?[\\d]{1,3}(\\,|\\.)[\\d]{1,2}'"
      ]
    },
    {
      "cell_type": "markdown",
      "id": "1f4653d3",
      "metadata": {
        "id": "1f4653d3"
      },
      "source": [
        "Se creó un regex que cumpliera con la condición de estar separado por puntos o comas y tener entre 0 a 3 dígitos por sección entre puntos y comas, es decir detectará números como 111,111,111.11 ó 1,111,111.11. Se mantuvo una restricción de terminar en punto ya que todos los documentos presentaban ese patrón, además de 2 cifras decimales."
      ]
    },
    {
      "cell_type": "code",
      "execution_count": 26,
      "id": "3990e6d0",
      "metadata": {
        "id": "3990e6d0"
      },
      "outputs": [],
      "source": [
        "def extract_money(text):\n",
        "\n",
        "\n",
        "    match = re.search(numpat, text)\n",
        "\n",
        "    if match:\n",
        "        number = match.group()\n",
        "\n",
        "        m = number.replace(',', '/').replace('.', ',').replace('/', '')\n",
        "\n",
        "        mone = m\n",
        "    else:\n",
        "        mone = 'No encontrado'\n",
        "    \n",
        "    return mone\n"
      ]
    },
    {
      "cell_type": "markdown",
      "id": "a9da2339",
      "metadata": {
        "id": "a9da2339"
      },
      "source": [
        "Para extraer el monto es muy similar a extraer la fecha, se revisa si en el texto existe el patrón y si hay patrón se extrae ese número, posteriormente se cambian las comas por barra oblicua (slash), luego se reemplazan los puntos por comas y se eliminan los slash, para así entregar el monto en el formato solicitado"
      ]
    },
    {
      "cell_type": "code",
      "execution_count": 27,
      "metadata": {
        "id": "Bmc3vsm-62bZ"
      },
      "outputs": [],
      "source": [
        "df['monto'] = df['text_nlp'].apply(extract_money)"
      ],
      "id": "Bmc3vsm-62bZ"
    },
    {
      "cell_type": "markdown",
      "metadata": {
        "id": "DPwndsZV62bZ"
      },
      "source": [
        "Extracción de la información"
      ],
      "id": "DPwndsZV62bZ"
    },
    {
      "cell_type": "markdown",
      "id": "034b6d48",
      "metadata": {
        "id": "034b6d48"
      },
      "source": [
        "## 5. Extracción de Ciudades"
      ]
    },
    {
      "cell_type": "markdown",
      "id": "159b07ed",
      "metadata": {
        "id": "159b07ed"
      },
      "source": [
        "En el caso de la extracción de ciudades por seguridad se volvió a tomar el documento original y se preprocesará eliminado espacios y algunas Stop Words indeseadas, no se eliminaron las Stop Words por el método anterior en nombres ya que la eliminación de las Stop Words comunes empeoraba la detección del spacy, por lo que se utilizó el replace para hacer una remoción de Stop Words un poco más específica, además que se notó una mejoría en la detección al aplicar el removedor de url al texto."
      ]
    },
    {
      "cell_type": "code",
      "execution_count": 28,
      "id": "bd8fe1ae",
      "metadata": {
        "id": "bd8fe1ae"
      },
      "outputs": [],
      "source": [
        "df[\"text_nlp\"] = df[\"document\"].str.replace(r'\\s+', ' ', regex=True)"
      ]
    },
    {
      "cell_type": "code",
      "execution_count": 29,
      "id": "eda143cc",
      "metadata": {
        "id": "eda143cc"
      },
      "outputs": [],
      "source": [
        "df[\"text_nlp\"] = df[\"text_nlp\"].str.replace('Nos', '')"
      ]
    },
    {
      "cell_type": "code",
      "execution_count": 30,
      "id": "f163f76f",
      "metadata": {
        "id": "f163f76f"
      },
      "outputs": [],
      "source": [
        "df[\"text_nlp\"] = df[\"text_nlp\"].str.replace('Initech', '')"
      ]
    },
    {
      "cell_type": "code",
      "execution_count": 31,
      "id": "e72807dd",
      "metadata": {
        "id": "e72807dd"
      },
      "outputs": [],
      "source": [
        "df[\"text_nlp\"] = df[\"text_nlp\"].apply(remove_url)"
      ]
    },
    {
      "cell_type": "code",
      "execution_count": 32,
      "id": "785467c7",
      "metadata": {
        "id": "785467c7"
      },
      "outputs": [],
      "source": [
        "ciudad1 = r'([A-Z])([a-záéíóúñ]+)'"
      ]
    },
    {
      "cell_type": "markdown",
      "id": "0b2d0596",
      "metadata": {
        "id": "0b2d0596"
      },
      "source": [
        "Para el caso de comparar si lo encontrado es una ciudad lo ideal sería compararlo con una lista de todas las ciudades de colombia, pero por cuestiones de tiempo se decidió utilizar un regex que simplemente detectara una palabra que empezara por letra mayúscula ya que se observó que las ciudades son palabras simples o compuestas pero empiezan por una letra maýuscula"
      ]
    },
    {
      "cell_type": "code",
      "execution_count": 33,
      "id": "959eee80",
      "metadata": {
        "id": "959eee80"
      },
      "outputs": [],
      "source": [
        "\n",
        "def extract_city(text):\n",
        "        cont = 0\n",
        "\n",
        "        doc = nlp(text) \n",
        "        \n",
        "        for ent in doc.ents:          \n",
        "            if ent.label_ == \"LOC\":\n",
        "                \n",
        "                q = ent.text\n",
        "                \n",
        "                if q == 'Bogotá':\n",
        "                    cont += 1\n",
        "                    \n",
        "                    if cont >= 2:\n",
        "                        q = 'Bogotá'\n",
        "                        \n",
        "                    elif cont == 1:\n",
        "                        q = 'No encontrado'\n",
        "   \n",
        "                \n",
        "                elif re.search(ciudad1, q) is None:\n",
        "                    q = 'No encontrado'\n",
        "\n",
        "                cet = q\n",
        "                       \n",
        "                break\n",
        "            else:\n",
        "                continue\n",
        "                \n",
        "        return cet"
      ]
    },
    {
      "cell_type": "markdown",
      "id": "bcbfc872",
      "metadata": {
        "id": "bcbfc872"
      },
      "source": [
        "La función extraerá el texto y lo tokenizará, luego se revisa si estos token son una 'LOC' que se refiera a las ciudades o lugares, posteriormente se analiza si la ciudad es Bogotá o no, aunque hacer esta afirmación realmente sería un error se observó en los documentos que todas las cartas eran enviadas desde Bogotá por lo que Bogotá se podría considerar una Stop Word, lo ideal sería comparar con una lista de ciudades de colombia, además de revisar si hay más de 1 token 'LOC' en el texto, si sólo hay un token 'Bogotá' muy probablemente sea la ciudad de la empresa y no la ciudad de la persona a la cuál se le está cobrando. "
      ]
    },
    {
      "cell_type": "code",
      "execution_count": 34,
      "metadata": {
        "id": "MTPRmn4P62ba"
      },
      "outputs": [],
      "source": [
        "df['ciudad'] = df['text_nlp'].apply(extract_city)"
      ],
      "id": "MTPRmn4P62ba"
    },
    {
      "cell_type": "markdown",
      "metadata": {
        "id": "HwesEqSl62bb"
      },
      "source": [
        "Extracción de la información"
      ],
      "id": "HwesEqSl62bb"
    },
    {
      "cell_type": "markdown",
      "id": "de88d0c1",
      "metadata": {
        "id": "de88d0c1"
      },
      "source": [
        "## Resultados Finales y Conclusiones"
      ]
    },
    {
      "cell_type": "code",
      "execution_count": 35,
      "id": "8ebc8011",
      "metadata": {
        "id": "8ebc8011",
        "outputId": "e3de81ab-db0d-4b61-f8b9-9f372db155dd",
        "colab": {
          "base_uri": "https://localhost:8080/",
          "height": 363
        }
      },
      "outputs": [
        {
          "output_type": "execute_result",
          "data": {
            "text/plain": [
              "   document_name                                           document  \\\n",
              "0             86    Señor/señora: Daniel Roberto Torres Gómez  L...   \n",
              "1            470    Atención: Ana Miguel Jiménez Rodríguez  Le e...   \n",
              "2             16    Oiga!!!! Juan Pablo Fernández Muñoz  Esperam...   \n",
              "3            165    Querido/a Carlos Miguel Pérez Pérez,  Espera...   \n",
              "4            114    Estimadisimo/a Daniel Cristina Rodríguez Gon...   \n",
              "5            119    A quien corresponda,    Ha llegado a nuestra...   \n",
              "6            136    ¡Hola querido/a Pedro Isabel Torres Alonso! ...   \n",
              "7            337    Estimado/a: Laura Patricia Fernández Ruiz  H...   \n",
              "8            234    Señor/señora: Fernando María Rodríguez Alons...   \n",
              "9            498    ¡Hola! Fernando Daniel Hernández García ¿Qué...   \n",
              "\n",
              "                                            text_nlp  \\\n",
              "0    Señor / señora : Daniel Roberto Torres Gómez...   \n",
              "1    Atención : Ana Miguel Jiménez Rodríguez Le e...   \n",
              "2    Oiga ! ! ! ! Juan Pablo Fernández Muñoz Espe...   \n",
              "3    Querido / a Carlos Miguel Pérez Pérez , Espe...   \n",
              "4    Estimadisimo / a Daniel Cristina Rodríguez G...   \n",
              "5    A quien corresponda , Ha llegado a nuestra a...   \n",
              "6    ¡ Hola querido / a Pedro Isabel Torres Alons...   \n",
              "7    Estimado / a : Laura Patricia Fernández Ruiz...   \n",
              "8    Señor / señora : Fernando María Rodríguez Al...   \n",
              "9    ¡ Hola ! Fernando Daniel Hernández García ¿ ...   \n",
              "\n",
              "                       nombre_cliente       fecha          monto  \\\n",
              "0         Daniel Roberto Torres Gómez  2020-01-30  6287918586,38   \n",
              "1        Ana Miguel Jiménez Rodríguez  2016-01-22  6487447022,84   \n",
              "2          Juan Pablo Fernández Muñoz  2017-12-25   199967325,33   \n",
              "3           Carlos Miguel Pérez Pérez  2016-07-25   825558525,29   \n",
              "4  Daniel Cristina Rodríguez González  2016-01-27  1005623583,51   \n",
              "5         Juan Santiago Santos Méndez  2018-02-06  1281162307,55   \n",
              "6          Pedro Isabel Torres Alonso  2017-02-08  9357233710,93   \n",
              "7       Laura Patricia Fernández Ruiz  2019-01-23  3321107382,06   \n",
              "8     Fernando María Rodríguez Alonso  2017-03-27  2001793770,50   \n",
              "9    Fernando Daniel Hernández García  2016-05-09  8777175239,78   \n",
              "\n",
              "             ciudad  \n",
              "0          Zaragoza  \n",
              "1        San Andrés  \n",
              "2             Girón  \n",
              "3           Popayán  \n",
              "4  Puerto Leguízamo  \n",
              "5     No encontrado  \n",
              "6             Ocana  \n",
              "7            Ibagué  \n",
              "8       Montelíbano  \n",
              "9             Pasto  "
            ],
            "text/html": [
              "\n",
              "  <div id=\"df-e72ca132-2fe8-4e8f-bd2f-c64755ed9aca\">\n",
              "    <div class=\"colab-df-container\">\n",
              "      <div>\n",
              "<style scoped>\n",
              "    .dataframe tbody tr th:only-of-type {\n",
              "        vertical-align: middle;\n",
              "    }\n",
              "\n",
              "    .dataframe tbody tr th {\n",
              "        vertical-align: top;\n",
              "    }\n",
              "\n",
              "    .dataframe thead th {\n",
              "        text-align: right;\n",
              "    }\n",
              "</style>\n",
              "<table border=\"1\" class=\"dataframe\">\n",
              "  <thead>\n",
              "    <tr style=\"text-align: right;\">\n",
              "      <th></th>\n",
              "      <th>document_name</th>\n",
              "      <th>document</th>\n",
              "      <th>text_nlp</th>\n",
              "      <th>nombre_cliente</th>\n",
              "      <th>fecha</th>\n",
              "      <th>monto</th>\n",
              "      <th>ciudad</th>\n",
              "    </tr>\n",
              "  </thead>\n",
              "  <tbody>\n",
              "    <tr>\n",
              "      <th>0</th>\n",
              "      <td>86</td>\n",
              "      <td>Señor/señora: Daniel Roberto Torres Gómez  L...</td>\n",
              "      <td>Señor / señora : Daniel Roberto Torres Gómez...</td>\n",
              "      <td>Daniel Roberto Torres Gómez</td>\n",
              "      <td>2020-01-30</td>\n",
              "      <td>6287918586,38</td>\n",
              "      <td>Zaragoza</td>\n",
              "    </tr>\n",
              "    <tr>\n",
              "      <th>1</th>\n",
              "      <td>470</td>\n",
              "      <td>Atención: Ana Miguel Jiménez Rodríguez  Le e...</td>\n",
              "      <td>Atención : Ana Miguel Jiménez Rodríguez Le e...</td>\n",
              "      <td>Ana Miguel Jiménez Rodríguez</td>\n",
              "      <td>2016-01-22</td>\n",
              "      <td>6487447022,84</td>\n",
              "      <td>San Andrés</td>\n",
              "    </tr>\n",
              "    <tr>\n",
              "      <th>2</th>\n",
              "      <td>16</td>\n",
              "      <td>Oiga!!!! Juan Pablo Fernández Muñoz  Esperam...</td>\n",
              "      <td>Oiga ! ! ! ! Juan Pablo Fernández Muñoz Espe...</td>\n",
              "      <td>Juan Pablo Fernández Muñoz</td>\n",
              "      <td>2017-12-25</td>\n",
              "      <td>199967325,33</td>\n",
              "      <td>Girón</td>\n",
              "    </tr>\n",
              "    <tr>\n",
              "      <th>3</th>\n",
              "      <td>165</td>\n",
              "      <td>Querido/a Carlos Miguel Pérez Pérez,  Espera...</td>\n",
              "      <td>Querido / a Carlos Miguel Pérez Pérez , Espe...</td>\n",
              "      <td>Carlos Miguel Pérez Pérez</td>\n",
              "      <td>2016-07-25</td>\n",
              "      <td>825558525,29</td>\n",
              "      <td>Popayán</td>\n",
              "    </tr>\n",
              "    <tr>\n",
              "      <th>4</th>\n",
              "      <td>114</td>\n",
              "      <td>Estimadisimo/a Daniel Cristina Rodríguez Gon...</td>\n",
              "      <td>Estimadisimo / a Daniel Cristina Rodríguez G...</td>\n",
              "      <td>Daniel Cristina Rodríguez González</td>\n",
              "      <td>2016-01-27</td>\n",
              "      <td>1005623583,51</td>\n",
              "      <td>Puerto Leguízamo</td>\n",
              "    </tr>\n",
              "    <tr>\n",
              "      <th>5</th>\n",
              "      <td>119</td>\n",
              "      <td>A quien corresponda,    Ha llegado a nuestra...</td>\n",
              "      <td>A quien corresponda , Ha llegado a nuestra a...</td>\n",
              "      <td>Juan Santiago Santos Méndez</td>\n",
              "      <td>2018-02-06</td>\n",
              "      <td>1281162307,55</td>\n",
              "      <td>No encontrado</td>\n",
              "    </tr>\n",
              "    <tr>\n",
              "      <th>6</th>\n",
              "      <td>136</td>\n",
              "      <td>¡Hola querido/a Pedro Isabel Torres Alonso! ...</td>\n",
              "      <td>¡ Hola querido / a Pedro Isabel Torres Alons...</td>\n",
              "      <td>Pedro Isabel Torres Alonso</td>\n",
              "      <td>2017-02-08</td>\n",
              "      <td>9357233710,93</td>\n",
              "      <td>Ocana</td>\n",
              "    </tr>\n",
              "    <tr>\n",
              "      <th>7</th>\n",
              "      <td>337</td>\n",
              "      <td>Estimado/a: Laura Patricia Fernández Ruiz  H...</td>\n",
              "      <td>Estimado / a : Laura Patricia Fernández Ruiz...</td>\n",
              "      <td>Laura Patricia Fernández Ruiz</td>\n",
              "      <td>2019-01-23</td>\n",
              "      <td>3321107382,06</td>\n",
              "      <td>Ibagué</td>\n",
              "    </tr>\n",
              "    <tr>\n",
              "      <th>8</th>\n",
              "      <td>234</td>\n",
              "      <td>Señor/señora: Fernando María Rodríguez Alons...</td>\n",
              "      <td>Señor / señora : Fernando María Rodríguez Al...</td>\n",
              "      <td>Fernando María Rodríguez Alonso</td>\n",
              "      <td>2017-03-27</td>\n",
              "      <td>2001793770,50</td>\n",
              "      <td>Montelíbano</td>\n",
              "    </tr>\n",
              "    <tr>\n",
              "      <th>9</th>\n",
              "      <td>498</td>\n",
              "      <td>¡Hola! Fernando Daniel Hernández García ¿Qué...</td>\n",
              "      <td>¡ Hola ! Fernando Daniel Hernández García ¿ ...</td>\n",
              "      <td>Fernando Daniel Hernández García</td>\n",
              "      <td>2016-05-09</td>\n",
              "      <td>8777175239,78</td>\n",
              "      <td>Pasto</td>\n",
              "    </tr>\n",
              "  </tbody>\n",
              "</table>\n",
              "</div>\n",
              "      <button class=\"colab-df-convert\" onclick=\"convertToInteractive('df-e72ca132-2fe8-4e8f-bd2f-c64755ed9aca')\"\n",
              "              title=\"Convert this dataframe to an interactive table.\"\n",
              "              style=\"display:none;\">\n",
              "        \n",
              "  <svg xmlns=\"http://www.w3.org/2000/svg\" height=\"24px\"viewBox=\"0 0 24 24\"\n",
              "       width=\"24px\">\n",
              "    <path d=\"M0 0h24v24H0V0z\" fill=\"none\"/>\n",
              "    <path d=\"M18.56 5.44l.94 2.06.94-2.06 2.06-.94-2.06-.94-.94-2.06-.94 2.06-2.06.94zm-11 1L8.5 8.5l.94-2.06 2.06-.94-2.06-.94L8.5 2.5l-.94 2.06-2.06.94zm10 10l.94 2.06.94-2.06 2.06-.94-2.06-.94-.94-2.06-.94 2.06-2.06.94z\"/><path d=\"M17.41 7.96l-1.37-1.37c-.4-.4-.92-.59-1.43-.59-.52 0-1.04.2-1.43.59L10.3 9.45l-7.72 7.72c-.78.78-.78 2.05 0 2.83L4 21.41c.39.39.9.59 1.41.59.51 0 1.02-.2 1.41-.59l7.78-7.78 2.81-2.81c.8-.78.8-2.07 0-2.86zM5.41 20L4 18.59l7.72-7.72 1.47 1.35L5.41 20z\"/>\n",
              "  </svg>\n",
              "      </button>\n",
              "      \n",
              "  <style>\n",
              "    .colab-df-container {\n",
              "      display:flex;\n",
              "      flex-wrap:wrap;\n",
              "      gap: 12px;\n",
              "    }\n",
              "\n",
              "    .colab-df-convert {\n",
              "      background-color: #E8F0FE;\n",
              "      border: none;\n",
              "      border-radius: 50%;\n",
              "      cursor: pointer;\n",
              "      display: none;\n",
              "      fill: #1967D2;\n",
              "      height: 32px;\n",
              "      padding: 0 0 0 0;\n",
              "      width: 32px;\n",
              "    }\n",
              "\n",
              "    .colab-df-convert:hover {\n",
              "      background-color: #E2EBFA;\n",
              "      box-shadow: 0px 1px 2px rgba(60, 64, 67, 0.3), 0px 1px 3px 1px rgba(60, 64, 67, 0.15);\n",
              "      fill: #174EA6;\n",
              "    }\n",
              "\n",
              "    [theme=dark] .colab-df-convert {\n",
              "      background-color: #3B4455;\n",
              "      fill: #D2E3FC;\n",
              "    }\n",
              "\n",
              "    [theme=dark] .colab-df-convert:hover {\n",
              "      background-color: #434B5C;\n",
              "      box-shadow: 0px 1px 3px 1px rgba(0, 0, 0, 0.15);\n",
              "      filter: drop-shadow(0px 1px 2px rgba(0, 0, 0, 0.3));\n",
              "      fill: #FFFFFF;\n",
              "    }\n",
              "  </style>\n",
              "\n",
              "      <script>\n",
              "        const buttonEl =\n",
              "          document.querySelector('#df-e72ca132-2fe8-4e8f-bd2f-c64755ed9aca button.colab-df-convert');\n",
              "        buttonEl.style.display =\n",
              "          google.colab.kernel.accessAllowed ? 'block' : 'none';\n",
              "\n",
              "        async function convertToInteractive(key) {\n",
              "          const element = document.querySelector('#df-e72ca132-2fe8-4e8f-bd2f-c64755ed9aca');\n",
              "          const dataTable =\n",
              "            await google.colab.kernel.invokeFunction('convertToInteractive',\n",
              "                                                     [key], {});\n",
              "          if (!dataTable) return;\n",
              "\n",
              "          const docLinkHtml = 'Like what you see? Visit the ' +\n",
              "            '<a target=\"_blank\" href=https://colab.research.google.com/notebooks/data_table.ipynb>data table notebook</a>'\n",
              "            + ' to learn more about interactive tables.';\n",
              "          element.innerHTML = '';\n",
              "          dataTable['output_type'] = 'display_data';\n",
              "          await google.colab.output.renderOutput(dataTable, element);\n",
              "          const docLink = document.createElement('div');\n",
              "          docLink.innerHTML = docLinkHtml;\n",
              "          element.appendChild(docLink);\n",
              "        }\n",
              "      </script>\n",
              "    </div>\n",
              "  </div>\n",
              "  "
            ]
          },
          "metadata": {},
          "execution_count": 35
        }
      ],
      "source": [
        "df.head(10)"
      ]
    },
    {
      "cell_type": "markdown",
      "metadata": {
        "id": "rWFrgMrl62bb"
      },
      "source": [
        "Una vez se aplican todas las funciones se obntiene una tabla de 7 columnas pero deben ser 6 según el formato, se observa una decente detección de los nombres, buena detección de fechas con el formato solicitado, detección de montos en el formato solicitado y una decente detección de ciudades."
      ],
      "id": "rWFrgMrl62bb"
    },
    {
      "cell_type": "markdown",
      "metadata": {
        "id": "JxFPhax762bb"
      },
      "source": [
        "Con el código planteado se logró extraer del texto los nombres, fechas, montos y ciudad que era la información de interés para el análisis del problema, se puede mejorar el código de detección de nombres y ciudades entrenando de forma personal el modelo de detección de entidades, además de mejorar la detección de ciudades al comparar el resultado con una lista de todas las ciudades de Colombia."
      ],
      "id": "JxFPhax762bb"
    },
    {
      "cell_type": "markdown",
      "id": "78488f80",
      "metadata": {
        "id": "78488f80"
      },
      "source": [
        "## Arreglo de la tabla final"
      ]
    },
    {
      "cell_type": "markdown",
      "id": "e8abaaa7",
      "metadata": {
        "id": "e8abaaa7"
      },
      "source": [
        "Para terminar, el archivo csv quedó con el orden incorrecto ya que se llamaron las funciones en el orden presentado, con el código de abajo se va a cambiar de posición la última columna de 'ciudades' a su posición solicitada además de renombrar las columnas suministradas por el formato deseado."
      ]
    },
    {
      "cell_type": "code",
      "execution_count": 36,
      "id": "cd547e2b",
      "metadata": {
        "id": "cd547e2b"
      },
      "outputs": [],
      "source": [
        "df = df.drop(columns=['text_nlp'])\n",
        "column_name = 'ciudad'\n",
        "new_pos = 3\n",
        "column_names = list(df.columns)\n",
        "column_names.remove(column_name)\n",
        "column_names.insert(new_pos, column_name)\n",
        "df = df[column_names]\n",
        "df = df.rename(columns={'document_name': 'nombre_documento'})\n",
        "df = df.rename(columns={'document': 'texto'})"
      ]
    },
    {
      "cell_type": "markdown",
      "id": "24f432d6",
      "metadata": {
        "id": "24f432d6"
      },
      "source": [
        "Presentamos la tabla dónde se observa que quedó con el formato solicitado"
      ]
    },
    {
      "cell_type": "code",
      "execution_count": 37,
      "id": "4eac29df",
      "metadata": {
        "id": "4eac29df",
        "outputId": "867b6def-edc1-44e3-f178-f71f360ca203",
        "colab": {
          "base_uri": "https://localhost:8080/",
          "height": 1000
        }
      },
      "outputs": [
        {
          "output_type": "execute_result",
          "data": {
            "text/plain": [
              "    nombre_documento                                              texto  \\\n",
              "0                 86    Señor/señora: Daniel Roberto Torres Gómez  L...   \n",
              "1                470    Atención: Ana Miguel Jiménez Rodríguez  Le e...   \n",
              "2                 16    Oiga!!!! Juan Pablo Fernández Muñoz  Esperam...   \n",
              "3                165    Querido/a Carlos Miguel Pérez Pérez,  Espera...   \n",
              "4                114    Estimadisimo/a Daniel Cristina Rodríguez Gon...   \n",
              "5                119    A quien corresponda,    Ha llegado a nuestra...   \n",
              "6                136    ¡Hola querido/a Pedro Isabel Torres Alonso! ...   \n",
              "7                337    Estimado/a: Laura Patricia Fernández Ruiz  H...   \n",
              "8                234    Señor/señora: Fernando María Rodríguez Alons...   \n",
              "9                498    ¡Hola! Fernando Daniel Hernández García ¿Qué...   \n",
              "10               394    Señor/señora: Álvaro Miguel Ruiz Díaz  Le es...   \n",
              "11               173    Estimado/a: Sandra Samantha Hernández Gonzál...   \n",
              "12               400    Señor/señora: Pedro Laura Torres García  Le ...   \n",
              "13               379    Estimado/a: Daniel María Fernández Méndez  H...   \n",
              "14               105    Estimadisimo/a Sandra Miguel Torres Alonso, ...   \n",
              "15               246    ¡Hola! Álvaro María Alonso Muñoz ¿Qué tal es...   \n",
              "16               286    Queridísimo/a Álvaro Laura Pérez Hernández, ...   \n",
              "17               198    Estimado/a: Samantha Pablo Díaz Martínez  Ha...   \n",
              "18               377    A quien corresponda,    Ha llegado a nuestra...   \n",
              "19                45    Atención: Daniel Sara Santos González  Le es...   \n",
              "20               240    ¡Hola! Juan Pablo Santos Lopez ¿Qué tal está...   \n",
              "21               247    ¡Hola! Gloria María Romero Alonso ¿Qué tal e...   \n",
              "22               196    Estimado/a: Sandra Sandra Gómez Torres  Ha l...   \n",
              "23               193    Estimado/a: María Pablo García Torres  Ha ll...   \n",
              "24               429    Estimadisimo/a Patricia Gloria González Rome...   \n",
              "25               345    Señor/señora: Gloria Sara Méndez García  Le ...   \n",
              "26                 4    Estimado/a: Patricia Sara Méndez Pérez  Ha l...   \n",
              "27               372    A quien corresponda,    Ha llegado a nuestra...   \n",
              "28               391    Señor/señora: Laura Sara Romero Díaz  Le esc...   \n",
              "29               465    Estimado/a: Sandra Raquel Hernández Lopez  H...   \n",
              "30               204    ¡Hola querido/a Juan Roberto Martínez Torres...   \n",
              "31               194    Estimado/a: Raquel Isabel Hernández Rodrígue...   \n",
              "32                21    Señor/señora: Fernando María Alonso Rodrígue...   \n",
              "33               175    Estimado/a: Daniel Isabel Santos González  H...   \n",
              "34               418    ¡Hola querido/a Sara Carlos Lopez Alonso!   ...   \n",
              "35                74    Estimado/a: Raquel Álvaro Muñoz García  Ha l...   \n",
              "36                39    Atención: María Raquel Rodríguez Hernández  ...   \n",
              "37               384    Estimado/a: Samantha Patricia Álvarez Gonzál...   \n",
              "38               424    Atento: Pablo María Lopez García  ¡Hola! Fak...   \n",
              "39               164    Querido/a Sandra Santiago Álvarez Santos,  E...   \n",
              "40               189    Estimado/a: Raquel Samantha Muñoz Jiménez  H...   \n",
              "41               386    Estimado/a: Juan Daniel Gómez Alonso  Ha lle...   \n",
              "42                82    Señor/señora: Raquel Sofía Díaz Méndez  Le e...   \n",
              "43               408    Señor/señora: Pablo Gloria Gómez Pérez  Le e...   \n",
              "44               326    Señor/señora: Miguel Sandra Torres Álvarez  ...   \n",
              "45               156    Querido/a Pablo Pablo Rodríguez Romero,  Esp...   \n",
              "46               445    Oiga!!!! Álvaro Sara Alonso Santos  Esperamo...   \n",
              "47               412    ¡Hola querido/a Fernando Cristina Hernández ...   \n",
              "48               184    Señor/señora: Pedro Miguel Álvarez Álvarez  ...   \n",
              "49                79    Señor/señora: Miguel Sara Méndez Álvarez  Le...   \n",
              "50                69    Estimado/a: Pedro Gloria Álvarez Hernández  ...   \n",
              "\n",
              "                        nombre_cliente            ciudad       fecha  \\\n",
              "0          Daniel Roberto Torres Gómez          Zaragoza  2020-01-30   \n",
              "1         Ana Miguel Jiménez Rodríguez        San Andrés  2016-01-22   \n",
              "2           Juan Pablo Fernández Muñoz             Girón  2017-12-25   \n",
              "3            Carlos Miguel Pérez Pérez           Popayán  2016-07-25   \n",
              "4   Daniel Cristina Rodríguez González  Puerto Leguízamo  2016-01-27   \n",
              "5          Juan Santiago Santos Méndez     No encontrado  2018-02-06   \n",
              "6           Pedro Isabel Torres Alonso             Ocana  2017-02-08   \n",
              "7        Laura Patricia Fernández Ruiz            Ibagué  2019-01-23   \n",
              "8      Fernando María Rodríguez Alonso       Montelíbano  2017-03-27   \n",
              "9     Fernando Daniel Hernández García             Pasto  2016-05-09   \n",
              "10             Álvaro Miguel Ruiz Díaz     No encontrado  2017-11-15   \n",
              "11  Sandra Samantha Hernández González      Planeta Rica  2017-05-09   \n",
              "12           Pedro Laura Torres García         Cartagena  2016-07-25   \n",
              "13       Daniel María Fernández Méndez            Ibagué  2019-07-17   \n",
              "14         Sandra Miguel Torres Alonso           Palmira  2021-12-24   \n",
              "15           Álvaro María Alonso Muñoz       Bucaramanga  2013-10-17   \n",
              "16        Álvaro Laura Pérez Hernández          Riohacha  2015-09-04   \n",
              "17        Samantha Pablo Díaz Martínez      Buenaventura  2019-06-04   \n",
              "18        Fernando Laura García García     No encontrado  2014-09-21   \n",
              "19         Daniel Sara Santos González            Tumaco  2015-05-24   \n",
              "20             Juan Pablo Santos Lopez            Tumaco  2018-05-04   \n",
              "21          Gloria María Romero Alonso            Itagüí  2015-04-22   \n",
              "22          Sandra Sandra Gómez Torres         Cartagena  2018-09-08   \n",
              "23           María Pablo García Torres         Manizales  2016-02-28   \n",
              "24     Patricia Gloria González Romero        San Andrés  2020-09-23   \n",
              "25           Gloria Sara Méndez García              Tame  2015-05-17   \n",
              "26          Patricia Sara Méndez Pérez       Bucaramanga  2018-07-16   \n",
              "27     Samantha Gloria Pérez Fernández     No encontrado  2021-07-08   \n",
              "28              Laura Sara Romero Díaz             Chinú  2022-07-12   \n",
              "29       Sandra Raquel Hernández Lopez           Yarumal  2022-06-10   \n",
              "30        Juan Roberto Martínez Torres         Tierralta  2013-03-03   \n",
              "31   Raquel Isabel Hernández Rodríguez          Zaragoza  2014-09-11   \n",
              "32     Fernando María Alonso Rodríguez            Sonson  2020-07-27   \n",
              "33       Daniel Isabel Santos González     Villavicencio  2017-05-05   \n",
              "34            Sara Carlos Lopez Alonso           Ciénaga  2015-12-24   \n",
              "35          Raquel Álvaro Muñoz García      Barranquilla  2022-09-25   \n",
              "36    María Raquel Rodríguez Hernández         Florencia  2018-05-20   \n",
              "37  Samantha Patricia Álvarez González           Sahagún  2017-06-17   \n",
              "38            Pablo María Lopez García     No encontrado  2013-06-23   \n",
              "39      Sandra Santiago Álvarez Santos           Soledad  2016-06-21   \n",
              "40       Raquel Samantha Muñoz Jiménez            Soacha  2014-02-17   \n",
              "41            Juan Daniel Gómez Alonso    Ciénaga de Oro  2016-10-07   \n",
              "42            Raquel Sofía Díaz Méndez         Manizales  2014-03-15   \n",
              "43            Pablo Gloria Gómez Pérez             Pasto  2014-12-18   \n",
              "44        Miguel Sandra Torres Álvarez             Chima  2015-06-16   \n",
              "45        Pablo Pablo Rodríguez Romero            Ibagué  2020-02-01   \n",
              "46           Álvaro Sara Alonso Santos      Dosquebradas  2014-03-13   \n",
              "47    Fernando Cristina Hernández Díaz        San Carlos  2022-01-30   \n",
              "48        Pedro Miguel Álvarez Álvarez           Sahagún  2014-07-04   \n",
              "49          Miguel Sara Méndez Álvarez        Valledupar  2013-02-25   \n",
              "50      Pedro Gloria Álvarez Hernández             Chinú  2022-09-30   \n",
              "\n",
              "            monto  \n",
              "0   6287918586,38  \n",
              "1   6487447022,84  \n",
              "2    199967325,33  \n",
              "3    825558525,29  \n",
              "4   1005623583,51  \n",
              "5   1281162307,55  \n",
              "6   9357233710,93  \n",
              "7   3321107382,06  \n",
              "8   2001793770,50  \n",
              "9   8777175239,78  \n",
              "10  2483866437,70  \n",
              "11   984169377,80  \n",
              "12  9628666584,41  \n",
              "13  5607719277,34  \n",
              "14  4012413608,75  \n",
              "15  7214484003,61  \n",
              "16  2462370708,97  \n",
              "17  5985743017,57  \n",
              "18  2382735039,73  \n",
              "19  7841683747,16  \n",
              "20  5422933580,05  \n",
              "21  5051416524,39  \n",
              "22  2982475236,10  \n",
              "23  4037426895,43  \n",
              "24  1779351916,04  \n",
              "25  1034583314,64  \n",
              "26  1329689828,20  \n",
              "27   508997587,35  \n",
              "28   159536319,67  \n",
              "29  3061348834,26  \n",
              "30  1743753628,89  \n",
              "31  9111485645,16  \n",
              "32  1519385608,37  \n",
              "33  3234720527,50  \n",
              "34  4907422626,28  \n",
              "35  7067513446,92  \n",
              "36  5378733330,07  \n",
              "37  7882441861,15  \n",
              "38  1493125951,86  \n",
              "39  8538248269,02  \n",
              "40  4644099021,19  \n",
              "41  5994984901,82  \n",
              "42  8564740807,68  \n",
              "43  3818323322,83  \n",
              "44  3309895198,86  \n",
              "45  8483919177,33  \n",
              "46  7974119061,99  \n",
              "47  2936589511,61  \n",
              "48  1518770986,06  \n",
              "49  3089769005,58  \n",
              "50  6900369982,77  "
            ],
            "text/html": [
              "\n",
              "  <div id=\"df-5ec4a2eb-7f1a-46d9-9ec8-9847a8a864fd\">\n",
              "    <div class=\"colab-df-container\">\n",
              "      <div>\n",
              "<style scoped>\n",
              "    .dataframe tbody tr th:only-of-type {\n",
              "        vertical-align: middle;\n",
              "    }\n",
              "\n",
              "    .dataframe tbody tr th {\n",
              "        vertical-align: top;\n",
              "    }\n",
              "\n",
              "    .dataframe thead th {\n",
              "        text-align: right;\n",
              "    }\n",
              "</style>\n",
              "<table border=\"1\" class=\"dataframe\">\n",
              "  <thead>\n",
              "    <tr style=\"text-align: right;\">\n",
              "      <th></th>\n",
              "      <th>nombre_documento</th>\n",
              "      <th>texto</th>\n",
              "      <th>nombre_cliente</th>\n",
              "      <th>ciudad</th>\n",
              "      <th>fecha</th>\n",
              "      <th>monto</th>\n",
              "    </tr>\n",
              "  </thead>\n",
              "  <tbody>\n",
              "    <tr>\n",
              "      <th>0</th>\n",
              "      <td>86</td>\n",
              "      <td>Señor/señora: Daniel Roberto Torres Gómez  L...</td>\n",
              "      <td>Daniel Roberto Torres Gómez</td>\n",
              "      <td>Zaragoza</td>\n",
              "      <td>2020-01-30</td>\n",
              "      <td>6287918586,38</td>\n",
              "    </tr>\n",
              "    <tr>\n",
              "      <th>1</th>\n",
              "      <td>470</td>\n",
              "      <td>Atención: Ana Miguel Jiménez Rodríguez  Le e...</td>\n",
              "      <td>Ana Miguel Jiménez Rodríguez</td>\n",
              "      <td>San Andrés</td>\n",
              "      <td>2016-01-22</td>\n",
              "      <td>6487447022,84</td>\n",
              "    </tr>\n",
              "    <tr>\n",
              "      <th>2</th>\n",
              "      <td>16</td>\n",
              "      <td>Oiga!!!! Juan Pablo Fernández Muñoz  Esperam...</td>\n",
              "      <td>Juan Pablo Fernández Muñoz</td>\n",
              "      <td>Girón</td>\n",
              "      <td>2017-12-25</td>\n",
              "      <td>199967325,33</td>\n",
              "    </tr>\n",
              "    <tr>\n",
              "      <th>3</th>\n",
              "      <td>165</td>\n",
              "      <td>Querido/a Carlos Miguel Pérez Pérez,  Espera...</td>\n",
              "      <td>Carlos Miguel Pérez Pérez</td>\n",
              "      <td>Popayán</td>\n",
              "      <td>2016-07-25</td>\n",
              "      <td>825558525,29</td>\n",
              "    </tr>\n",
              "    <tr>\n",
              "      <th>4</th>\n",
              "      <td>114</td>\n",
              "      <td>Estimadisimo/a Daniel Cristina Rodríguez Gon...</td>\n",
              "      <td>Daniel Cristina Rodríguez González</td>\n",
              "      <td>Puerto Leguízamo</td>\n",
              "      <td>2016-01-27</td>\n",
              "      <td>1005623583,51</td>\n",
              "    </tr>\n",
              "    <tr>\n",
              "      <th>5</th>\n",
              "      <td>119</td>\n",
              "      <td>A quien corresponda,    Ha llegado a nuestra...</td>\n",
              "      <td>Juan Santiago Santos Méndez</td>\n",
              "      <td>No encontrado</td>\n",
              "      <td>2018-02-06</td>\n",
              "      <td>1281162307,55</td>\n",
              "    </tr>\n",
              "    <tr>\n",
              "      <th>6</th>\n",
              "      <td>136</td>\n",
              "      <td>¡Hola querido/a Pedro Isabel Torres Alonso! ...</td>\n",
              "      <td>Pedro Isabel Torres Alonso</td>\n",
              "      <td>Ocana</td>\n",
              "      <td>2017-02-08</td>\n",
              "      <td>9357233710,93</td>\n",
              "    </tr>\n",
              "    <tr>\n",
              "      <th>7</th>\n",
              "      <td>337</td>\n",
              "      <td>Estimado/a: Laura Patricia Fernández Ruiz  H...</td>\n",
              "      <td>Laura Patricia Fernández Ruiz</td>\n",
              "      <td>Ibagué</td>\n",
              "      <td>2019-01-23</td>\n",
              "      <td>3321107382,06</td>\n",
              "    </tr>\n",
              "    <tr>\n",
              "      <th>8</th>\n",
              "      <td>234</td>\n",
              "      <td>Señor/señora: Fernando María Rodríguez Alons...</td>\n",
              "      <td>Fernando María Rodríguez Alonso</td>\n",
              "      <td>Montelíbano</td>\n",
              "      <td>2017-03-27</td>\n",
              "      <td>2001793770,50</td>\n",
              "    </tr>\n",
              "    <tr>\n",
              "      <th>9</th>\n",
              "      <td>498</td>\n",
              "      <td>¡Hola! Fernando Daniel Hernández García ¿Qué...</td>\n",
              "      <td>Fernando Daniel Hernández García</td>\n",
              "      <td>Pasto</td>\n",
              "      <td>2016-05-09</td>\n",
              "      <td>8777175239,78</td>\n",
              "    </tr>\n",
              "    <tr>\n",
              "      <th>10</th>\n",
              "      <td>394</td>\n",
              "      <td>Señor/señora: Álvaro Miguel Ruiz Díaz  Le es...</td>\n",
              "      <td>Álvaro Miguel Ruiz Díaz</td>\n",
              "      <td>No encontrado</td>\n",
              "      <td>2017-11-15</td>\n",
              "      <td>2483866437,70</td>\n",
              "    </tr>\n",
              "    <tr>\n",
              "      <th>11</th>\n",
              "      <td>173</td>\n",
              "      <td>Estimado/a: Sandra Samantha Hernández Gonzál...</td>\n",
              "      <td>Sandra Samantha Hernández González</td>\n",
              "      <td>Planeta Rica</td>\n",
              "      <td>2017-05-09</td>\n",
              "      <td>984169377,80</td>\n",
              "    </tr>\n",
              "    <tr>\n",
              "      <th>12</th>\n",
              "      <td>400</td>\n",
              "      <td>Señor/señora: Pedro Laura Torres García  Le ...</td>\n",
              "      <td>Pedro Laura Torres García</td>\n",
              "      <td>Cartagena</td>\n",
              "      <td>2016-07-25</td>\n",
              "      <td>9628666584,41</td>\n",
              "    </tr>\n",
              "    <tr>\n",
              "      <th>13</th>\n",
              "      <td>379</td>\n",
              "      <td>Estimado/a: Daniel María Fernández Méndez  H...</td>\n",
              "      <td>Daniel María Fernández Méndez</td>\n",
              "      <td>Ibagué</td>\n",
              "      <td>2019-07-17</td>\n",
              "      <td>5607719277,34</td>\n",
              "    </tr>\n",
              "    <tr>\n",
              "      <th>14</th>\n",
              "      <td>105</td>\n",
              "      <td>Estimadisimo/a Sandra Miguel Torres Alonso, ...</td>\n",
              "      <td>Sandra Miguel Torres Alonso</td>\n",
              "      <td>Palmira</td>\n",
              "      <td>2021-12-24</td>\n",
              "      <td>4012413608,75</td>\n",
              "    </tr>\n",
              "    <tr>\n",
              "      <th>15</th>\n",
              "      <td>246</td>\n",
              "      <td>¡Hola! Álvaro María Alonso Muñoz ¿Qué tal es...</td>\n",
              "      <td>Álvaro María Alonso Muñoz</td>\n",
              "      <td>Bucaramanga</td>\n",
              "      <td>2013-10-17</td>\n",
              "      <td>7214484003,61</td>\n",
              "    </tr>\n",
              "    <tr>\n",
              "      <th>16</th>\n",
              "      <td>286</td>\n",
              "      <td>Queridísimo/a Álvaro Laura Pérez Hernández, ...</td>\n",
              "      <td>Álvaro Laura Pérez Hernández</td>\n",
              "      <td>Riohacha</td>\n",
              "      <td>2015-09-04</td>\n",
              "      <td>2462370708,97</td>\n",
              "    </tr>\n",
              "    <tr>\n",
              "      <th>17</th>\n",
              "      <td>198</td>\n",
              "      <td>Estimado/a: Samantha Pablo Díaz Martínez  Ha...</td>\n",
              "      <td>Samantha Pablo Díaz Martínez</td>\n",
              "      <td>Buenaventura</td>\n",
              "      <td>2019-06-04</td>\n",
              "      <td>5985743017,57</td>\n",
              "    </tr>\n",
              "    <tr>\n",
              "      <th>18</th>\n",
              "      <td>377</td>\n",
              "      <td>A quien corresponda,    Ha llegado a nuestra...</td>\n",
              "      <td>Fernando Laura García García</td>\n",
              "      <td>No encontrado</td>\n",
              "      <td>2014-09-21</td>\n",
              "      <td>2382735039,73</td>\n",
              "    </tr>\n",
              "    <tr>\n",
              "      <th>19</th>\n",
              "      <td>45</td>\n",
              "      <td>Atención: Daniel Sara Santos González  Le es...</td>\n",
              "      <td>Daniel Sara Santos González</td>\n",
              "      <td>Tumaco</td>\n",
              "      <td>2015-05-24</td>\n",
              "      <td>7841683747,16</td>\n",
              "    </tr>\n",
              "    <tr>\n",
              "      <th>20</th>\n",
              "      <td>240</td>\n",
              "      <td>¡Hola! Juan Pablo Santos Lopez ¿Qué tal está...</td>\n",
              "      <td>Juan Pablo Santos Lopez</td>\n",
              "      <td>Tumaco</td>\n",
              "      <td>2018-05-04</td>\n",
              "      <td>5422933580,05</td>\n",
              "    </tr>\n",
              "    <tr>\n",
              "      <th>21</th>\n",
              "      <td>247</td>\n",
              "      <td>¡Hola! Gloria María Romero Alonso ¿Qué tal e...</td>\n",
              "      <td>Gloria María Romero Alonso</td>\n",
              "      <td>Itagüí</td>\n",
              "      <td>2015-04-22</td>\n",
              "      <td>5051416524,39</td>\n",
              "    </tr>\n",
              "    <tr>\n",
              "      <th>22</th>\n",
              "      <td>196</td>\n",
              "      <td>Estimado/a: Sandra Sandra Gómez Torres  Ha l...</td>\n",
              "      <td>Sandra Sandra Gómez Torres</td>\n",
              "      <td>Cartagena</td>\n",
              "      <td>2018-09-08</td>\n",
              "      <td>2982475236,10</td>\n",
              "    </tr>\n",
              "    <tr>\n",
              "      <th>23</th>\n",
              "      <td>193</td>\n",
              "      <td>Estimado/a: María Pablo García Torres  Ha ll...</td>\n",
              "      <td>María Pablo García Torres</td>\n",
              "      <td>Manizales</td>\n",
              "      <td>2016-02-28</td>\n",
              "      <td>4037426895,43</td>\n",
              "    </tr>\n",
              "    <tr>\n",
              "      <th>24</th>\n",
              "      <td>429</td>\n",
              "      <td>Estimadisimo/a Patricia Gloria González Rome...</td>\n",
              "      <td>Patricia Gloria González Romero</td>\n",
              "      <td>San Andrés</td>\n",
              "      <td>2020-09-23</td>\n",
              "      <td>1779351916,04</td>\n",
              "    </tr>\n",
              "    <tr>\n",
              "      <th>25</th>\n",
              "      <td>345</td>\n",
              "      <td>Señor/señora: Gloria Sara Méndez García  Le ...</td>\n",
              "      <td>Gloria Sara Méndez García</td>\n",
              "      <td>Tame</td>\n",
              "      <td>2015-05-17</td>\n",
              "      <td>1034583314,64</td>\n",
              "    </tr>\n",
              "    <tr>\n",
              "      <th>26</th>\n",
              "      <td>4</td>\n",
              "      <td>Estimado/a: Patricia Sara Méndez Pérez  Ha l...</td>\n",
              "      <td>Patricia Sara Méndez Pérez</td>\n",
              "      <td>Bucaramanga</td>\n",
              "      <td>2018-07-16</td>\n",
              "      <td>1329689828,20</td>\n",
              "    </tr>\n",
              "    <tr>\n",
              "      <th>27</th>\n",
              "      <td>372</td>\n",
              "      <td>A quien corresponda,    Ha llegado a nuestra...</td>\n",
              "      <td>Samantha Gloria Pérez Fernández</td>\n",
              "      <td>No encontrado</td>\n",
              "      <td>2021-07-08</td>\n",
              "      <td>508997587,35</td>\n",
              "    </tr>\n",
              "    <tr>\n",
              "      <th>28</th>\n",
              "      <td>391</td>\n",
              "      <td>Señor/señora: Laura Sara Romero Díaz  Le esc...</td>\n",
              "      <td>Laura Sara Romero Díaz</td>\n",
              "      <td>Chinú</td>\n",
              "      <td>2022-07-12</td>\n",
              "      <td>159536319,67</td>\n",
              "    </tr>\n",
              "    <tr>\n",
              "      <th>29</th>\n",
              "      <td>465</td>\n",
              "      <td>Estimado/a: Sandra Raquel Hernández Lopez  H...</td>\n",
              "      <td>Sandra Raquel Hernández Lopez</td>\n",
              "      <td>Yarumal</td>\n",
              "      <td>2022-06-10</td>\n",
              "      <td>3061348834,26</td>\n",
              "    </tr>\n",
              "    <tr>\n",
              "      <th>30</th>\n",
              "      <td>204</td>\n",
              "      <td>¡Hola querido/a Juan Roberto Martínez Torres...</td>\n",
              "      <td>Juan Roberto Martínez Torres</td>\n",
              "      <td>Tierralta</td>\n",
              "      <td>2013-03-03</td>\n",
              "      <td>1743753628,89</td>\n",
              "    </tr>\n",
              "    <tr>\n",
              "      <th>31</th>\n",
              "      <td>194</td>\n",
              "      <td>Estimado/a: Raquel Isabel Hernández Rodrígue...</td>\n",
              "      <td>Raquel Isabel Hernández Rodríguez</td>\n",
              "      <td>Zaragoza</td>\n",
              "      <td>2014-09-11</td>\n",
              "      <td>9111485645,16</td>\n",
              "    </tr>\n",
              "    <tr>\n",
              "      <th>32</th>\n",
              "      <td>21</td>\n",
              "      <td>Señor/señora: Fernando María Alonso Rodrígue...</td>\n",
              "      <td>Fernando María Alonso Rodríguez</td>\n",
              "      <td>Sonson</td>\n",
              "      <td>2020-07-27</td>\n",
              "      <td>1519385608,37</td>\n",
              "    </tr>\n",
              "    <tr>\n",
              "      <th>33</th>\n",
              "      <td>175</td>\n",
              "      <td>Estimado/a: Daniel Isabel Santos González  H...</td>\n",
              "      <td>Daniel Isabel Santos González</td>\n",
              "      <td>Villavicencio</td>\n",
              "      <td>2017-05-05</td>\n",
              "      <td>3234720527,50</td>\n",
              "    </tr>\n",
              "    <tr>\n",
              "      <th>34</th>\n",
              "      <td>418</td>\n",
              "      <td>¡Hola querido/a Sara Carlos Lopez Alonso!   ...</td>\n",
              "      <td>Sara Carlos Lopez Alonso</td>\n",
              "      <td>Ciénaga</td>\n",
              "      <td>2015-12-24</td>\n",
              "      <td>4907422626,28</td>\n",
              "    </tr>\n",
              "    <tr>\n",
              "      <th>35</th>\n",
              "      <td>74</td>\n",
              "      <td>Estimado/a: Raquel Álvaro Muñoz García  Ha l...</td>\n",
              "      <td>Raquel Álvaro Muñoz García</td>\n",
              "      <td>Barranquilla</td>\n",
              "      <td>2022-09-25</td>\n",
              "      <td>7067513446,92</td>\n",
              "    </tr>\n",
              "    <tr>\n",
              "      <th>36</th>\n",
              "      <td>39</td>\n",
              "      <td>Atención: María Raquel Rodríguez Hernández  ...</td>\n",
              "      <td>María Raquel Rodríguez Hernández</td>\n",
              "      <td>Florencia</td>\n",
              "      <td>2018-05-20</td>\n",
              "      <td>5378733330,07</td>\n",
              "    </tr>\n",
              "    <tr>\n",
              "      <th>37</th>\n",
              "      <td>384</td>\n",
              "      <td>Estimado/a: Samantha Patricia Álvarez Gonzál...</td>\n",
              "      <td>Samantha Patricia Álvarez González</td>\n",
              "      <td>Sahagún</td>\n",
              "      <td>2017-06-17</td>\n",
              "      <td>7882441861,15</td>\n",
              "    </tr>\n",
              "    <tr>\n",
              "      <th>38</th>\n",
              "      <td>424</td>\n",
              "      <td>Atento: Pablo María Lopez García  ¡Hola! Fak...</td>\n",
              "      <td>Pablo María Lopez García</td>\n",
              "      <td>No encontrado</td>\n",
              "      <td>2013-06-23</td>\n",
              "      <td>1493125951,86</td>\n",
              "    </tr>\n",
              "    <tr>\n",
              "      <th>39</th>\n",
              "      <td>164</td>\n",
              "      <td>Querido/a Sandra Santiago Álvarez Santos,  E...</td>\n",
              "      <td>Sandra Santiago Álvarez Santos</td>\n",
              "      <td>Soledad</td>\n",
              "      <td>2016-06-21</td>\n",
              "      <td>8538248269,02</td>\n",
              "    </tr>\n",
              "    <tr>\n",
              "      <th>40</th>\n",
              "      <td>189</td>\n",
              "      <td>Estimado/a: Raquel Samantha Muñoz Jiménez  H...</td>\n",
              "      <td>Raquel Samantha Muñoz Jiménez</td>\n",
              "      <td>Soacha</td>\n",
              "      <td>2014-02-17</td>\n",
              "      <td>4644099021,19</td>\n",
              "    </tr>\n",
              "    <tr>\n",
              "      <th>41</th>\n",
              "      <td>386</td>\n",
              "      <td>Estimado/a: Juan Daniel Gómez Alonso  Ha lle...</td>\n",
              "      <td>Juan Daniel Gómez Alonso</td>\n",
              "      <td>Ciénaga de Oro</td>\n",
              "      <td>2016-10-07</td>\n",
              "      <td>5994984901,82</td>\n",
              "    </tr>\n",
              "    <tr>\n",
              "      <th>42</th>\n",
              "      <td>82</td>\n",
              "      <td>Señor/señora: Raquel Sofía Díaz Méndez  Le e...</td>\n",
              "      <td>Raquel Sofía Díaz Méndez</td>\n",
              "      <td>Manizales</td>\n",
              "      <td>2014-03-15</td>\n",
              "      <td>8564740807,68</td>\n",
              "    </tr>\n",
              "    <tr>\n",
              "      <th>43</th>\n",
              "      <td>408</td>\n",
              "      <td>Señor/señora: Pablo Gloria Gómez Pérez  Le e...</td>\n",
              "      <td>Pablo Gloria Gómez Pérez</td>\n",
              "      <td>Pasto</td>\n",
              "      <td>2014-12-18</td>\n",
              "      <td>3818323322,83</td>\n",
              "    </tr>\n",
              "    <tr>\n",
              "      <th>44</th>\n",
              "      <td>326</td>\n",
              "      <td>Señor/señora: Miguel Sandra Torres Álvarez  ...</td>\n",
              "      <td>Miguel Sandra Torres Álvarez</td>\n",
              "      <td>Chima</td>\n",
              "      <td>2015-06-16</td>\n",
              "      <td>3309895198,86</td>\n",
              "    </tr>\n",
              "    <tr>\n",
              "      <th>45</th>\n",
              "      <td>156</td>\n",
              "      <td>Querido/a Pablo Pablo Rodríguez Romero,  Esp...</td>\n",
              "      <td>Pablo Pablo Rodríguez Romero</td>\n",
              "      <td>Ibagué</td>\n",
              "      <td>2020-02-01</td>\n",
              "      <td>8483919177,33</td>\n",
              "    </tr>\n",
              "    <tr>\n",
              "      <th>46</th>\n",
              "      <td>445</td>\n",
              "      <td>Oiga!!!! Álvaro Sara Alonso Santos  Esperamo...</td>\n",
              "      <td>Álvaro Sara Alonso Santos</td>\n",
              "      <td>Dosquebradas</td>\n",
              "      <td>2014-03-13</td>\n",
              "      <td>7974119061,99</td>\n",
              "    </tr>\n",
              "    <tr>\n",
              "      <th>47</th>\n",
              "      <td>412</td>\n",
              "      <td>¡Hola querido/a Fernando Cristina Hernández ...</td>\n",
              "      <td>Fernando Cristina Hernández Díaz</td>\n",
              "      <td>San Carlos</td>\n",
              "      <td>2022-01-30</td>\n",
              "      <td>2936589511,61</td>\n",
              "    </tr>\n",
              "    <tr>\n",
              "      <th>48</th>\n",
              "      <td>184</td>\n",
              "      <td>Señor/señora: Pedro Miguel Álvarez Álvarez  ...</td>\n",
              "      <td>Pedro Miguel Álvarez Álvarez</td>\n",
              "      <td>Sahagún</td>\n",
              "      <td>2014-07-04</td>\n",
              "      <td>1518770986,06</td>\n",
              "    </tr>\n",
              "    <tr>\n",
              "      <th>49</th>\n",
              "      <td>79</td>\n",
              "      <td>Señor/señora: Miguel Sara Méndez Álvarez  Le...</td>\n",
              "      <td>Miguel Sara Méndez Álvarez</td>\n",
              "      <td>Valledupar</td>\n",
              "      <td>2013-02-25</td>\n",
              "      <td>3089769005,58</td>\n",
              "    </tr>\n",
              "    <tr>\n",
              "      <th>50</th>\n",
              "      <td>69</td>\n",
              "      <td>Estimado/a: Pedro Gloria Álvarez Hernández  ...</td>\n",
              "      <td>Pedro Gloria Álvarez Hernández</td>\n",
              "      <td>Chinú</td>\n",
              "      <td>2022-09-30</td>\n",
              "      <td>6900369982,77</td>\n",
              "    </tr>\n",
              "  </tbody>\n",
              "</table>\n",
              "</div>\n",
              "      <button class=\"colab-df-convert\" onclick=\"convertToInteractive('df-5ec4a2eb-7f1a-46d9-9ec8-9847a8a864fd')\"\n",
              "              title=\"Convert this dataframe to an interactive table.\"\n",
              "              style=\"display:none;\">\n",
              "        \n",
              "  <svg xmlns=\"http://www.w3.org/2000/svg\" height=\"24px\"viewBox=\"0 0 24 24\"\n",
              "       width=\"24px\">\n",
              "    <path d=\"M0 0h24v24H0V0z\" fill=\"none\"/>\n",
              "    <path d=\"M18.56 5.44l.94 2.06.94-2.06 2.06-.94-2.06-.94-.94-2.06-.94 2.06-2.06.94zm-11 1L8.5 8.5l.94-2.06 2.06-.94-2.06-.94L8.5 2.5l-.94 2.06-2.06.94zm10 10l.94 2.06.94-2.06 2.06-.94-2.06-.94-.94-2.06-.94 2.06-2.06.94z\"/><path d=\"M17.41 7.96l-1.37-1.37c-.4-.4-.92-.59-1.43-.59-.52 0-1.04.2-1.43.59L10.3 9.45l-7.72 7.72c-.78.78-.78 2.05 0 2.83L4 21.41c.39.39.9.59 1.41.59.51 0 1.02-.2 1.41-.59l7.78-7.78 2.81-2.81c.8-.78.8-2.07 0-2.86zM5.41 20L4 18.59l7.72-7.72 1.47 1.35L5.41 20z\"/>\n",
              "  </svg>\n",
              "      </button>\n",
              "      \n",
              "  <style>\n",
              "    .colab-df-container {\n",
              "      display:flex;\n",
              "      flex-wrap:wrap;\n",
              "      gap: 12px;\n",
              "    }\n",
              "\n",
              "    .colab-df-convert {\n",
              "      background-color: #E8F0FE;\n",
              "      border: none;\n",
              "      border-radius: 50%;\n",
              "      cursor: pointer;\n",
              "      display: none;\n",
              "      fill: #1967D2;\n",
              "      height: 32px;\n",
              "      padding: 0 0 0 0;\n",
              "      width: 32px;\n",
              "    }\n",
              "\n",
              "    .colab-df-convert:hover {\n",
              "      background-color: #E2EBFA;\n",
              "      box-shadow: 0px 1px 2px rgba(60, 64, 67, 0.3), 0px 1px 3px 1px rgba(60, 64, 67, 0.15);\n",
              "      fill: #174EA6;\n",
              "    }\n",
              "\n",
              "    [theme=dark] .colab-df-convert {\n",
              "      background-color: #3B4455;\n",
              "      fill: #D2E3FC;\n",
              "    }\n",
              "\n",
              "    [theme=dark] .colab-df-convert:hover {\n",
              "      background-color: #434B5C;\n",
              "      box-shadow: 0px 1px 3px 1px rgba(0, 0, 0, 0.15);\n",
              "      filter: drop-shadow(0px 1px 2px rgba(0, 0, 0, 0.3));\n",
              "      fill: #FFFFFF;\n",
              "    }\n",
              "  </style>\n",
              "\n",
              "      <script>\n",
              "        const buttonEl =\n",
              "          document.querySelector('#df-5ec4a2eb-7f1a-46d9-9ec8-9847a8a864fd button.colab-df-convert');\n",
              "        buttonEl.style.display =\n",
              "          google.colab.kernel.accessAllowed ? 'block' : 'none';\n",
              "\n",
              "        async function convertToInteractive(key) {\n",
              "          const element = document.querySelector('#df-5ec4a2eb-7f1a-46d9-9ec8-9847a8a864fd');\n",
              "          const dataTable =\n",
              "            await google.colab.kernel.invokeFunction('convertToInteractive',\n",
              "                                                     [key], {});\n",
              "          if (!dataTable) return;\n",
              "\n",
              "          const docLinkHtml = 'Like what you see? Visit the ' +\n",
              "            '<a target=\"_blank\" href=https://colab.research.google.com/notebooks/data_table.ipynb>data table notebook</a>'\n",
              "            + ' to learn more about interactive tables.';\n",
              "          element.innerHTML = '';\n",
              "          dataTable['output_type'] = 'display_data';\n",
              "          await google.colab.output.renderOutput(dataTable, element);\n",
              "          const docLink = document.createElement('div');\n",
              "          docLink.innerHTML = docLinkHtml;\n",
              "          element.appendChild(docLink);\n",
              "        }\n",
              "      </script>\n",
              "    </div>\n",
              "  </div>\n",
              "  "
            ]
          },
          "metadata": {},
          "execution_count": 37
        }
      ],
      "source": [
        "df.head(51)"
      ]
    },
    {
      "cell_type": "markdown",
      "id": "15cd2bee",
      "metadata": {
        "id": "15cd2bee"
      },
      "source": [
        "Y se exporta el archivo csv con el separador '|'"
      ]
    },
    {
      "cell_type": "code",
      "execution_count": 38,
      "id": "7b8500d5",
      "metadata": {
        "id": "7b8500d5"
      },
      "outputs": [],
      "source": [
        "df.to_csv('resultados.csv', sep = '|')"
      ]
    }
  ],
  "metadata": {
    "kernelspec": {
      "display_name": "Python 3",
      "language": "python",
      "name": "python3"
    },
    "language_info": {
      "codemirror_mode": {
        "name": "ipython",
        "version": 3
      },
      "file_extension": ".py",
      "mimetype": "text/x-python",
      "name": "python",
      "nbconvert_exporter": "python",
      "pygments_lexer": "ipython3",
      "version": "3.7.3"
    },
    "colab": {
      "provenance": [],
      "include_colab_link": true
    }
  },
  "nbformat": 4,
  "nbformat_minor": 5
}