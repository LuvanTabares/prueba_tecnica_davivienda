{
 "cells": [
  {
   "cell_type": "markdown",
   "metadata": {},
   "source": [
    "<br />\n",
    "<div align=\"center\">\n",
    "  <a href=\"https://www.davivienda.com/wps/portal/personas/nuevo\">\n",
    "    <img src=\"https://upload.wikimedia.org/wikipedia/en/thumb/b/b1/Davivienda_logo.svg/1200px-Davivienda_logo.svg.png\" alt=\"Logo\" width=\"300\" height=\"100\">\n",
    "  </a>\n",
    "\n",
    "  <h2 align=\"center\"> Prueba Técniva Davivienda - Profesional I Data no Estructurada</h2>\n",
    "  <h2 align=\"center\"> Notebook de Implementación</h2>\n",
    "  <h4 align=\"center\"> Luvan Tabares </h4>\n",
    "    \n",
    "***\n",
    "\n",
    "  <p align=\"center\">\n",
    "    Realizar la oferta correcta en el momento adecuado es una de las principales estrategias de mercadeo que de manera comprobada aumentan la efectividad de las campañas comerciales. Esta estrategia es conocida como Siguiente Mejor Oferta (NBO) y es generalmente responsabilidad de las áreas de analítica de clientes dado que se construye a partir de modelos analíticos predictivos. En este estudio, se construyeron dos modelos de NBO de productos de crédito para clientes del Banco Davivienda. El primer modelo consistió en un Modelo Experto basado en reglas de negocio y asociaciones estadísticas de las variables independientes y la variable objetivo. El segundo modelo consistió en el entrenamiento de una red neuronal multicapa o Fully Connected. El estudio se basó en una base de datos de clientes del Banco Davivienda y sus aperturas de productos de crédito durante un semestre.  </p>\n",
    "</div>\n",
    "\n",
    "\n",
    "* [1. EDA - Análisis Exploratorio de Datos](#topic1)\n",
    "* [2. Extracción de Nombres](#topic2)\n",
    "* [3. Extracción de Fechas](#topic3)\n",
    "* [4. Extracción de Montos](#topic4)\n",
    "* [5. Extracción de Ciudades](#topic5)\n",
    "* [6. Resultados Finales y Conclusiones](#topic6)\n",
    "\n"
   ]
  },
  {
   "cell_type": "markdown",
   "metadata": {},
   "source": [
    "### Instalación de librerias"
   ]
  },
  {
   "cell_type": "code",
   "execution_count": 3,
   "metadata": {},
   "outputs": [
    {
     "name": "stdout",
     "output_type": "stream",
     "text": [
      "/opt/tljh/user/bin/python: No module named spacy\r\n"
     ]
    }
   ],
   "source": [
    "!pip install pandas==1.2.3\n",
    "!pip install spacy==3.3.1\n",
    "!pip install transformers[torch]\n",
    "!pip install -U scikit-learn\n",
    "!"
   ]
  },
  {
   "cell_type": "markdown",
   "metadata": {},
   "source": [
    "### Importamos las librerias"
   ]
  },
  {
   "cell_type": "code",
   "execution_count": 26,
   "metadata": {},
   "outputs": [],
   "source": [
    "# Importamos las librerias\n",
    "import numpy as np # linear algebra\n",
    "import pandas as pd # data processing, CSV file I/O (e.g. pd.read_csv)\n",
    "import spacy\n",
    "import transformers\n",
    "import matplotlib.pyplot as plt\n",
    "from sklearn.feature_extraction.text import CountVectorizer # Vectorizador de palabras y DTM\n",
    "from sklearn.decomposition import LatentDirichletAllocation # Modelo de LDA\n",
    "from scipy.sparse import csr_matrix # Para tratar Sparse Matrix\n",
    "nlp = spacy.load('es_core_news_lg')"
   ]
  },
  {
   "cell_type": "markdown",
   "metadata": {},
   "source": [
    "## 1. **EDA - Análisis Exploratorio de Datos**"
   ]
  },
  {
   "cell_type": "code",
   "execution_count": 5,
   "metadata": {},
   "outputs": [],
   "source": [
    "df = pd.read_csv('database/documentos.csv', '|')"
   ]
  },
  {
   "cell_type": "code",
   "execution_count": 6,
   "metadata": {},
   "outputs": [
    {
     "data": {
      "text/html": [
       "<div>\n",
       "<style scoped>\n",
       "    .dataframe tbody tr th:only-of-type {\n",
       "        vertical-align: middle;\n",
       "    }\n",
       "\n",
       "    .dataframe tbody tr th {\n",
       "        vertical-align: top;\n",
       "    }\n",
       "\n",
       "    .dataframe thead th {\n",
       "        text-align: right;\n",
       "    }\n",
       "</style>\n",
       "<table border=\"1\" class=\"dataframe\">\n",
       "  <thead>\n",
       "    <tr style=\"text-align: right;\">\n",
       "      <th></th>\n",
       "      <th>document_name</th>\n",
       "      <th>document</th>\n",
       "    </tr>\n",
       "  </thead>\n",
       "  <tbody>\n",
       "    <tr>\n",
       "      <th>0</th>\n",
       "      <td>86</td>\n",
       "      <td>Señor/señora: Daniel Roberto Torres Gómez  L...</td>\n",
       "    </tr>\n",
       "    <tr>\n",
       "      <th>1</th>\n",
       "      <td>470</td>\n",
       "      <td>Atención: Ana Miguel Jiménez Rodríguez  Le e...</td>\n",
       "    </tr>\n",
       "    <tr>\n",
       "      <th>2</th>\n",
       "      <td>16</td>\n",
       "      <td>Oiga!!!! Juan Pablo Fernández Muñoz  Esperam...</td>\n",
       "    </tr>\n",
       "    <tr>\n",
       "      <th>3</th>\n",
       "      <td>165</td>\n",
       "      <td>Querido/a Carlos Miguel Pérez Pérez,  Espera...</td>\n",
       "    </tr>\n",
       "    <tr>\n",
       "      <th>4</th>\n",
       "      <td>114</td>\n",
       "      <td>Estimadisimo/a Daniel Cristina Rodríguez Gon...</td>\n",
       "    </tr>\n",
       "  </tbody>\n",
       "</table>\n",
       "</div>"
      ],
      "text/plain": [
       "   document_name                                           document\n",
       "0             86    Señor/señora: Daniel Roberto Torres Gómez  L...\n",
       "1            470    Atención: Ana Miguel Jiménez Rodríguez  Le e...\n",
       "2             16    Oiga!!!! Juan Pablo Fernández Muñoz  Esperam...\n",
       "3            165    Querido/a Carlos Miguel Pérez Pérez,  Espera...\n",
       "4            114    Estimadisimo/a Daniel Cristina Rodríguez Gon..."
      ]
     },
     "execution_count": 6,
     "metadata": {},
     "output_type": "execute_result"
    }
   ],
   "source": [
    "df.head()"
   ]
  },
  {
   "cell_type": "code",
   "execution_count": 28,
   "metadata": {},
   "outputs": [
    {
     "data": {
      "text/plain": [
       "(499, 2)"
      ]
     },
     "execution_count": 28,
     "metadata": {},
     "output_type": "execute_result"
    }
   ],
   "source": [
    "df.shape"
   ]
  },
  {
   "cell_type": "code",
   "execution_count": 7,
   "metadata": {},
   "outputs": [
    {
     "data": {
      "text/plain": [
       "'  Atención: Ana Miguel Jiménez Rodríguez  Le escribimos para informarle que tiene un saldo a favor nuestro de £ 6,487,447,022.84 en su cuenta con nuestra empresa. Como puede recordar, tomó un préstamo con nosotros para   adquirir un auto de lujo Bentley Aventador en San Andrés. A pesar de múltiples intentos de ponerse en contacto con usted y recordarle su deuda pendiente, no hemos recibido ninguna respuesta   ni pago de su parte. Por lo tanto, solicitamos que devuelva el auto a nosotros o pague la totalidad de su deuda lo antes posible. Si no toma medidas en este asunto,   nos veremos obligados a iniciar acciones legales para recuperar la totalidad de su deuda.     Le instamos a que se ponga en contacto con nosotros lo antes posible para   discutir acuerdos de pago y evitar acciones legales adicionales, su deuda esta desde el 01/22/2016.     Si está experimentando dificultades financieras y no puede pagar la   totalidad de su deuda en este momento, no dude en ponerse en contacto con nosotros para discutir acuerdos de pago. Estamos dispuestos a trabajar con usted para   encontrar una solución justa y razonable para ambas partes.  Esperamos tener noticias suyas pronto y organizar una sesión de yoga y meditación colectiva para calmar los ánimos y encontrar una solución sana y equilibrada a este asunto.  Fake Incorporated quiere recordarle de manera amistosa que es hora de ponerse al día con sus pagos. ¡No se preocupe, tenemos muchas opciones   para ayudarle a encontrar una solución que funcione para usted!    Gracias por su atención oportuna a este asunto.  Globex Industries  Dirección Avenida mentira 456, Bogotá, Colombia  Teléfono +57 363 4381826  website www.globex_industries.com.co    '"
      ]
     },
     "execution_count": 7,
     "metadata": {},
     "output_type": "execute_result"
    }
   ],
   "source": [
    "df.document.iloc[1] # Exploramos uno de los texto analizar"
   ]
  },
  {
   "cell_type": "markdown",
   "metadata": {},
   "source": [
    "Realizamos limpieza a la base de documentos"
   ]
  },
  {
   "cell_type": "code",
   "execution_count": 8,
   "metadata": {},
   "outputs": [],
   "source": [
    "df.document = df.document.str.lower()  #### ACA VA LA LIMPIEZA GENERAL"
   ]
  },
  {
   "cell_type": "markdown",
   "metadata": {},
   "source": [
    "Stopwords ..... BLAH BLAH BLAH"
   ]
  },
  {
   "cell_type": "code",
   "execution_count": 16,
   "metadata": {},
   "outputs": [],
   "source": [
    "stopwords = nlp.Defaults.stop_words"
   ]
  },
  {
   "cell_type": "code",
   "execution_count": 20,
   "metadata": {},
   "outputs": [],
   "source": [
    "# Ahora construiremos la matriz término-documento\n",
    "n_vocab=1500 # máximo tamaño de vocabulario\n",
    "tf_vectorizer = CountVectorizer(max_df=0.8, min_df=2, max_features=n_vocab, stop_words=list(stopwords), ngram_range=(1,3)) # Al igual que un modelo, defino el objeto que construirá la matriz\n",
    "tf = tf_vectorizer.fit_transform(df.document) # Aplico el objeto a un conjunto de textos\n",
    "tf_feature_names = tf_vectorizer.get_feature_names_out() # Veo el vocabulario"
   ]
  },
  {
   "cell_type": "code",
   "execution_count": 21,
   "metadata": {},
   "outputs": [
    {
     "name": "stdout",
     "output_type": "stream",
     "text": [
      "(499, 1500)\n"
     ]
    }
   ],
   "source": [
    "TF_detallada=pd.DataFrame(csr_matrix(tf).todense(), columns=tf_feature_names) # Vuelvo de sparse a densa para explorarla\n",
    "TF_detallada.head() #Veo las primeras 5 filas\n",
    "print(TF_detallada.shape) # Veo las dimensiones, a qué corresponden?"
   ]
  },
  {
   "cell_type": "code",
   "execution_count": 22,
   "metadata": {},
   "outputs": [
    {
     "data": {
      "text/html": [
       "<div>\n",
       "<style scoped>\n",
       "    .dataframe tbody tr th:only-of-type {\n",
       "        vertical-align: middle;\n",
       "    }\n",
       "\n",
       "    .dataframe tbody tr th {\n",
       "        vertical-align: top;\n",
       "    }\n",
       "\n",
       "    .dataframe thead th {\n",
       "        text-align: right;\n",
       "    }\n",
       "</style>\n",
       "<table border=\"1\" class=\"dataframe\">\n",
       "  <thead>\n",
       "    <tr style=\"text-align: right;\">\n",
       "      <th></th>\n",
       "      <th>01</th>\n",
       "      <th>02</th>\n",
       "      <th>03</th>\n",
       "      <th>04</th>\n",
       "      <th>05</th>\n",
       "      <th>06</th>\n",
       "      <th>07</th>\n",
       "      <th>08</th>\n",
       "      <th>09</th>\n",
       "      <th>10</th>\n",
       "      <th>...</th>\n",
       "      <th>yq</th>\n",
       "      <th>yq ue</th>\n",
       "      <th>yq ue solictó</th>\n",
       "      <th>álvarez</th>\n",
       "      <th>álvarez escribimos</th>\n",
       "      <th>álvarez escribimos informarle</th>\n",
       "      <th>álvaro</th>\n",
       "      <th>ánimos</th>\n",
       "      <th>ánimos encontrar</th>\n",
       "      <th>ánimos encontrar solución</th>\n",
       "    </tr>\n",
       "  </thead>\n",
       "  <tbody>\n",
       "    <tr>\n",
       "      <th>0</th>\n",
       "      <td>1</td>\n",
       "      <td>0</td>\n",
       "      <td>0</td>\n",
       "      <td>0</td>\n",
       "      <td>0</td>\n",
       "      <td>0</td>\n",
       "      <td>0</td>\n",
       "      <td>0</td>\n",
       "      <td>0</td>\n",
       "      <td>0</td>\n",
       "      <td>...</td>\n",
       "      <td>0</td>\n",
       "      <td>0</td>\n",
       "      <td>0</td>\n",
       "      <td>0</td>\n",
       "      <td>0</td>\n",
       "      <td>0</td>\n",
       "      <td>0</td>\n",
       "      <td>0</td>\n",
       "      <td>0</td>\n",
       "      <td>0</td>\n",
       "    </tr>\n",
       "    <tr>\n",
       "      <th>1</th>\n",
       "      <td>1</td>\n",
       "      <td>0</td>\n",
       "      <td>0</td>\n",
       "      <td>0</td>\n",
       "      <td>0</td>\n",
       "      <td>0</td>\n",
       "      <td>0</td>\n",
       "      <td>0</td>\n",
       "      <td>0</td>\n",
       "      <td>0</td>\n",
       "      <td>...</td>\n",
       "      <td>0</td>\n",
       "      <td>0</td>\n",
       "      <td>0</td>\n",
       "      <td>0</td>\n",
       "      <td>0</td>\n",
       "      <td>0</td>\n",
       "      <td>0</td>\n",
       "      <td>1</td>\n",
       "      <td>1</td>\n",
       "      <td>1</td>\n",
       "    </tr>\n",
       "    <tr>\n",
       "      <th>2</th>\n",
       "      <td>0</td>\n",
       "      <td>0</td>\n",
       "      <td>0</td>\n",
       "      <td>0</td>\n",
       "      <td>0</td>\n",
       "      <td>0</td>\n",
       "      <td>0</td>\n",
       "      <td>0</td>\n",
       "      <td>0</td>\n",
       "      <td>0</td>\n",
       "      <td>...</td>\n",
       "      <td>0</td>\n",
       "      <td>0</td>\n",
       "      <td>0</td>\n",
       "      <td>0</td>\n",
       "      <td>0</td>\n",
       "      <td>0</td>\n",
       "      <td>0</td>\n",
       "      <td>0</td>\n",
       "      <td>0</td>\n",
       "      <td>0</td>\n",
       "    </tr>\n",
       "    <tr>\n",
       "      <th>3</th>\n",
       "      <td>0</td>\n",
       "      <td>0</td>\n",
       "      <td>0</td>\n",
       "      <td>0</td>\n",
       "      <td>0</td>\n",
       "      <td>0</td>\n",
       "      <td>1</td>\n",
       "      <td>0</td>\n",
       "      <td>0</td>\n",
       "      <td>0</td>\n",
       "      <td>...</td>\n",
       "      <td>0</td>\n",
       "      <td>0</td>\n",
       "      <td>0</td>\n",
       "      <td>0</td>\n",
       "      <td>0</td>\n",
       "      <td>0</td>\n",
       "      <td>0</td>\n",
       "      <td>0</td>\n",
       "      <td>0</td>\n",
       "      <td>0</td>\n",
       "    </tr>\n",
       "    <tr>\n",
       "      <th>4</th>\n",
       "      <td>1</td>\n",
       "      <td>0</td>\n",
       "      <td>0</td>\n",
       "      <td>0</td>\n",
       "      <td>0</td>\n",
       "      <td>0</td>\n",
       "      <td>0</td>\n",
       "      <td>0</td>\n",
       "      <td>0</td>\n",
       "      <td>0</td>\n",
       "      <td>...</td>\n",
       "      <td>0</td>\n",
       "      <td>0</td>\n",
       "      <td>0</td>\n",
       "      <td>0</td>\n",
       "      <td>0</td>\n",
       "      <td>0</td>\n",
       "      <td>0</td>\n",
       "      <td>0</td>\n",
       "      <td>0</td>\n",
       "      <td>0</td>\n",
       "    </tr>\n",
       "  </tbody>\n",
       "</table>\n",
       "<p>5 rows × 1500 columns</p>\n",
       "</div>"
      ],
      "text/plain": [
       "   01  02  03  04  05  06  07  08  09  10  ...  yq  yq ue  yq ue solictó  \\\n",
       "0   1   0   0   0   0   0   0   0   0   0  ...   0      0              0   \n",
       "1   1   0   0   0   0   0   0   0   0   0  ...   0      0              0   \n",
       "2   0   0   0   0   0   0   0   0   0   0  ...   0      0              0   \n",
       "3   0   0   0   0   0   0   1   0   0   0  ...   0      0              0   \n",
       "4   1   0   0   0   0   0   0   0   0   0  ...   0      0              0   \n",
       "\n",
       "   álvarez  álvarez escribimos  álvarez escribimos informarle  álvaro  ánimos  \\\n",
       "0        0                   0                              0       0       0   \n",
       "1        0                   0                              0       0       1   \n",
       "2        0                   0                              0       0       0   \n",
       "3        0                   0                              0       0       0   \n",
       "4        0                   0                              0       0       0   \n",
       "\n",
       "   ánimos encontrar  ánimos encontrar solución  \n",
       "0                 0                          0  \n",
       "1                 1                          1  \n",
       "2                 0                          0  \n",
       "3                 0                          0  \n",
       "4                 0                          0  \n",
       "\n",
       "[5 rows x 1500 columns]"
      ]
     },
     "execution_count": 22,
     "metadata": {},
     "output_type": "execute_result"
    }
   ],
   "source": [
    "TF_detallada.head() # Exploramos la matriz término-documento"
   ]
  },
  {
   "cell_type": "code",
   "execution_count": 23,
   "metadata": {},
   "outputs": [
    {
     "data": {
      "text/html": [
       "<div>\n",
       "<style scoped>\n",
       "    .dataframe tbody tr th:only-of-type {\n",
       "        vertical-align: middle;\n",
       "    }\n",
       "\n",
       "    .dataframe tbody tr th {\n",
       "        vertical-align: top;\n",
       "    }\n",
       "\n",
       "    .dataframe thead th {\n",
       "        text-align: right;\n",
       "    }\n",
       "</style>\n",
       "<table border=\"1\" class=\"dataframe\">\n",
       "  <thead>\n",
       "    <tr style=\"text-align: right;\">\n",
       "      <th></th>\n",
       "      <th>Freq</th>\n",
       "    </tr>\n",
       "  </thead>\n",
       "  <tbody>\n",
       "    <tr>\n",
       "      <th>legales</th>\n",
       "      <td>720</td>\n",
       "    </tr>\n",
       "    <tr>\n",
       "      <th>monto</th>\n",
       "      <td>630</td>\n",
       "    </tr>\n",
       "    <tr>\n",
       "      <th>contacto</th>\n",
       "      <td>618</td>\n",
       "    </tr>\n",
       "    <tr>\n",
       "      <th>monto deuda</th>\n",
       "      <td>530</td>\n",
       "    </tr>\n",
       "    <tr>\n",
       "      <th>encontrar</th>\n",
       "      <td>498</td>\n",
       "    </tr>\n",
       "    <tr>\n",
       "      <th>encontrar solución</th>\n",
       "      <td>498</td>\n",
       "    </tr>\n",
       "    <tr>\n",
       "      <th>solución</th>\n",
       "      <td>498</td>\n",
       "    </tr>\n",
       "    <tr>\n",
       "      <th>acciones legales</th>\n",
       "      <td>460</td>\n",
       "    </tr>\n",
       "    <tr>\n",
       "      <th>acciones</th>\n",
       "      <td>460</td>\n",
       "    </tr>\n",
       "    <tr>\n",
       "      <th>ponerse</th>\n",
       "      <td>457</td>\n",
       "    </tr>\n",
       "    <tr>\n",
       "      <th>medidas</th>\n",
       "      <td>400</td>\n",
       "    </tr>\n",
       "    <tr>\n",
       "      <th>asunto</th>\n",
       "      <td>399</td>\n",
       "    </tr>\n",
       "    <tr>\n",
       "      <th>website www</th>\n",
       "      <td>390</td>\n",
       "    </tr>\n",
       "    <tr>\n",
       "      <th>website</th>\n",
       "      <td>390</td>\n",
       "    </tr>\n",
       "    <tr>\n",
       "      <th>contacto discutir</th>\n",
       "      <td>389</td>\n",
       "    </tr>\n",
       "  </tbody>\n",
       "</table>\n",
       "</div>"
      ],
      "text/plain": [
       "                    Freq\n",
       "legales              720\n",
       "monto                630\n",
       "contacto             618\n",
       "monto deuda          530\n",
       "encontrar            498\n",
       "encontrar solución   498\n",
       "solución             498\n",
       "acciones legales     460\n",
       "acciones             460\n",
       "ponerse              457\n",
       "medidas              400\n",
       "asunto               399\n",
       "website www          390\n",
       "website              390\n",
       "contacto discutir    389"
      ]
     },
     "execution_count": 23,
     "metadata": {},
     "output_type": "execute_result"
    }
   ],
   "source": [
    "# ¿Que tal si estudiamos las frecuencias de las palabras?\n",
    "frecuencias=pd.DataFrame(TF_detallada.sum(), index=tf_feature_names, columns=['Freq'])\n",
    "frecuencias.sort_values(by=['Freq'], ascending=False, inplace=True)\n",
    "frecuencias.head(15)"
   ]
  },
  {
   "cell_type": "code",
   "execution_count": 27,
   "metadata": {},
   "outputs": [
    {
     "data": {
      "text/plain": [
       "<AxesSubplot: >"
      ]
     },
     "execution_count": 27,
     "metadata": {},
     "output_type": "execute_result"
    },
    {
     "data": {
      "image/png": "[encoded data removed]",
      "text/plain": [
       "<Figure size 1200x600 with 1 Axes>"
      ]
     },
     "metadata": {},
     "output_type": "display_data"
    }
   ],
   "source": [
    "frecuencias.head(30).plot(kind='bar', figsize=(12,6))"
   ]
  },
  {
   "cell_type": "markdown",
   "metadata": {},
   "source": [
    "## 2. **Extracción de Nombres**"
   ]
  },
  {
   "cell_type": "code",
   "execution_count": null,
   "metadata": {},
   "outputs": [],
   "source": []
  },
  {
   "cell_type": "code",
   "execution_count": null,
   "metadata": {},
   "outputs": [],
   "source": [
    "def remove_url(text):\n",
    "    doc = nlp(text)\n",
    "    return ' '.join([token.text for token in doc if not token.like_url])\n",
    "\n",
    "def remove_punct(text):\n",
    "    doc = nlp(text)\n",
    "    return ' '.join([token.text for token in doc if not token.is_punct])\n",
    "\n",
    "def remove_stop(text):\n",
    "    doc = nlp(text)\n",
    "    return ' '.join([token.text for token in doc if not token.is_stop])\n",
    "\n",
    "def lemma_text(text):\n",
    "    doc = nlp(text)\n",
    "    lemmas = [token.lemma_ for token in doc]\n",
    "    return \" \".join(lemmas)\n",
    "\n",
    "def extract_date(date_string):\n",
    " \n",
    "  if \"-\" in date_string:\n",
    "    \n",
    "    date = datetime.strptime(date_string, \"%Y-%m-%d\")\n",
    "    \n",
    "  else:\n",
    "    \n",
    "    date = datetime.strptime(date_string, \"%m/%d/%Y\")\n",
    "  \n",
    "  \n",
    "  year = date.year\n",
    "  month = date.month\n",
    "  day = date.day\n",
    "\n",
    "  \n",
    "  return (year, month, day)"
   ]
  },
  {
   "cell_type": "code",
   "execution_count": null,
   "metadata": {},
   "outputs": [],
   "source": [
    "df[\"text_nlp\"] = df[\"document\"].str.replace(r'\\s+', ' ', regex=True)\n",
    "\n",
    "nlp.Defaults.stop_words.add('hola')\n",
    "nlp.Defaults.stop_words.add('estimado')\n",
    "nlp.Defaults.stop_words.add('estimada')\n",
    "nlp.Defaults.stop_words.add('estimadísimo')\n",
    "nlp.Defaults.stop_words.add('estimadísima')\n",
    "nlp.Defaults.stop_words.add('don')\n",
    "nlp.Defaults.stop_words.add('doña')\n",
    "nlp.Defaults.stop_words.add('amigo')\n",
    "nlp.Defaults.stop_words.add('amiga')\n",
    "nlp.Defaults.stop_words.add('esperamos')\n",
    "nlp.Defaults.stop_words.add('queridísimo')\n",
    "nlp.Defaults.stop_words.add('queridísima')\n",
    "\n",
    "\n",
    "df[\"text_nlp\"] = df[\"text_nlp\"].apply(lemma_text)\n",
    "df[\"text_nlp\"] = df[\"text_nlp\"].apply(remove_punct)\n",
    "df[\"text_nlp\"] = df[\"document\"].str.replace('oiga', '')\n",
    "df[\"text_nlp\"] = df[\"text_nlp\"].apply(remove_stop)\n",
    "\n",
    "names4 = r'[A-ZÁÉÍÓÚÑa-záéíóúñ]+\\s[A-ZÁÉÍÓÚÑa-záéíóúñ]+\\s[A-ZÁÉÍÓÚÑa-záéíóúñ]+\\s[A-ZÁÉÍÓÚÑa-záéíóúñ]+'\n",
    "names3 = r'[A-ZÁÉÍÓÚÑa-záéíóúñ]+\\s[A-ZÁÉÍÓÚÑa-záéíóúñ]+\\s[A-ZÁÉÍÓÚÑa-záéíóúñ]+'\n",
    "\n",
    "\n",
    "names = []\n",
    "\n",
    "for x in range(df.shape[0]):\n",
    "        text = df['text_nlp'][x]\n",
    "        doc = nlp(text)  \n",
    "        for ent in doc.ents:          \n",
    "            if ent.label_ == \"PER\":\n",
    "                if re.search(names4, ent.text) or re.search(names3, ent.text):\n",
    "                    q = ent.text.replace('   carta', '').replace('¡ !', '').replace('   ', '')\n",
    "                    \n",
    "                    names.append(q)\n",
    "                \n",
    "    \n",
    "\n",
    "                    break\n",
    "            else:\n",
    "                continue\n",
    "                \n",
    "df['nombre_cliente'] = names"
   ]
  },
  {
   "cell_type": "code",
   "execution_count": 23,
   "metadata": {},
   "outputs": [],
   "source": [
    "# class ExtraccionData():\n",
    "    \n",
    "#     def __init__(self, path_csv = None):        \n",
    "#         self.path_csv = path_csv\n",
    "    \n",
    "#     def load_dataframe(self):\n",
    "        \n",
    "#         import pandas as pd\n",
    "        \n",
    "#         df = pd.read_csv(self.path_csv, sep='|')\n",
    "#         return df\n",
    "    \n",
    "#     def extract_size(self, df):        \n",
    "#         size = df.shape        \n",
    "#         return size\n",
    "    \n",
    "#     def extract_infor_gen(self):\n",
    "        \n",
    "#         df = self.load_dataframe()        \n",
    "#         size = self.extract_size(df)\n",
    "        \n",
    "#         return size\n",
    "        "
   ]
  },
  {
   "cell_type": "code",
   "execution_count": 24,
   "metadata": {},
   "outputs": [],
   "source": [
    "# extraccion = ExtraccionData(path_csv = 'database/documentos.csv')"
   ]
  },
  {
   "cell_type": "code",
   "execution_count": 25,
   "metadata": {},
   "outputs": [
    {
     "data": {
      "text/plain": [
       "(499, 2)"
      ]
     },
     "execution_count": 25,
     "metadata": {},
     "output_type": "execute_result"
    }
   ],
   "source": [
    "# extraccion.extract_infor_gen()"
   ]
  },
  {
   "cell_type": "code",
   "execution_count": 17,
   "metadata": {},
   "outputs": [
    {
     "data": {
      "text/plain": [
       "15"
      ]
     },
     "execution_count": 17,
     "metadata": {},
     "output_type": "execute_result"
    }
   ],
   "source": [
    "# calculadora.multiplicacion(2,3)"
   ]
  },
  {
   "cell_type": "code",
   "execution_count": null,
   "metadata": {},
   "outputs": [],
   "source": [
    "# df.shape"
   ]
  },
  {
   "cell_type": "markdown",
   "metadata": {},
   "source": [
    "## 3. **Extracción de Fechas**"
   ]
  },
  {
   "cell_type": "code",
   "execution_count": null,
   "metadata": {},
   "outputs": [],
   "source": [
    "df[\"text_nlp\"] = df[\"document\"].str.replace(r'\\s+', ' ', regex=True)"
   ]
  },
  {
   "cell_type": "code",
   "execution_count": null,
   "metadata": {},
   "outputs": [],
   "source": [
    "fechapat = r'([\\d]{4}(\\-|\\/|\\_)[\\d]{2}(\\-|\\/|\\_)[\\d]{2})|([\\d]{2}(\\-|\\/|\\_)[\\d]{2}(\\-|\\/|\\_)[\\d]{4})'\n",
    "fechs = []\n",
    "\n",
    "\n",
    "for x in range(df.shape[0]):\n",
    "\n",
    "    text = df['text_nlp'][x]\n",
    "\n",
    "\n",
    "    match = re.search(fechapat, text)\n",
    "\n",
    "    # Extract the number from the match\n",
    "    \n",
    "    number = match.group()\n",
    "    m = number\n",
    "    (year, month, day) = extract_date(m)\n",
    "    \n",
    "    today = datetime(year, month, day) #(YEAR, MONTH, DAY)\n",
    "\n",
    "    fchas = f'{today:%Y}-{today:%m}-{today:%d}'\n",
    "    \n",
    "    fechs.append(fchas)\n",
    "    \n",
    "    \n",
    "df['fecha'] = fechs  "
   ]
  },
  {
   "cell_type": "code",
   "execution_count": null,
   "metadata": {},
   "outputs": [],
   "source": []
  },
  {
   "cell_type": "markdown",
   "metadata": {},
   "source": [
    "## 4. **Extracción de Montos**"
   ]
  },
  {
   "cell_type": "code",
   "execution_count": null,
   "metadata": {},
   "outputs": [],
   "source": [
    "df[\"text_nlp\"] = df[\"document\"].str.replace(r'\\s+', ' ', regex=True)"
   ]
  },
  {
   "cell_type": "code",
   "execution_count": null,
   "metadata": {},
   "outputs": [],
   "source": [
    "numpat = r'[\\d]{0,3}(\\,|\\.)?[\\d]{0,3}(\\,|\\.)?[\\d]{0,3}(\\,|\\.)?[\\d]{1,3}(\\,|\\.)[\\d]{1,2}'\n",
    "money = []\n",
    "\n",
    "for x in range(df.shape[0]):\n",
    "\n",
    "    text = df['text_nlp'][x]\n",
    "\n",
    "\n",
    "    match = re.search(numpat, text)\n",
    "\n",
    "    # Extract the number from the match\n",
    "    \n",
    "    number = match.group()\n",
    "    m = number.replace(',', '/').replace('.', ',').replace('/', '')\n",
    "    \n",
    "    money.append(m)\n",
    "\n",
    "    \n",
    "\n",
    "df['monto'] = money"
   ]
  },
  {
   "cell_type": "code",
   "execution_count": null,
   "metadata": {},
   "outputs": [],
   "source": []
  },
  {
   "cell_type": "markdown",
   "metadata": {},
   "source": [
    "## 5. Extracción de Ciudades"
   ]
  },
  {
   "cell_type": "code",
   "execution_count": 87,
   "metadata": {},
   "outputs": [],
   "source": [
    "df[\"text_nlp\"] = df[\"document\"].str.replace(r'\\s+', ' ', regex=True)"
   ]
  },
  {
   "cell_type": "code",
   "execution_count": 88,
   "metadata": {},
   "outputs": [],
   "source": [
    "df[\"text_nlp\"] = df[\"text_nlp\"].str.replace('Nos', '')\n",
    "df[\"text_nlp\"] = df[\"text_nlp\"].str.replace('Initech', '')\n",
    "df[\"text_nlp\"] = df[\"text_nlp\"].apply(remove_url)\n",
    "\n",
    "\n",
    "val = []\n",
    "\n",
    "ciudad1 = r'([A-Z])([a-záéíóúñ]+)'\n",
    "\n",
    "\n",
    "\n",
    "for x in range(df.shape[0]):\n",
    "        text = df['text_nlp'][x]\n",
    "        doc = nlp(text)  \n",
    "        for ent in doc.ents:          \n",
    "            if ent.label_ == \"LOC\":\n",
    "                \n",
    "                q = ent.text\n",
    "                if q == 'Bogotá' or q == 'bogotá':\n",
    "                    q = 'No encontrado'\n",
    "                elif re.search(ciudad1, q) is None:\n",
    "                    q = 'No encontrado'               \n",
    "                \n",
    "                val.append(q)\n",
    " \n",
    "                break\n",
    "            else:\n",
    "                continue\n",
    "\n",
    "\n",
    "df['ciudad'] = val"
   ]
  },
  {
   "cell_type": "code",
   "execution_count": 89,
   "metadata": {},
   "outputs": [],
   "source": []
  },
  {
   "cell_type": "markdown",
   "metadata": {},
   "source": [
    "## 6. Resultados Finales y Conclusiones"
   ]
  },
  {
   "cell_type": "code",
   "execution_count": null,
   "metadata": {},
   "outputs": [],
   "source": [
    "df['ciudad'] = df['Document'].apply(extract_dates)\n",
    "df['ciudad'] = df['Document'].apply(extract_dates)\n",
    "df['ciudad'] = df['Document'].apply(extract_dates)\n",
    "df['ciudad'] = df['Document'].apply(extract_dates)\n",
    "\n",
    "df.to_csv('results.csv', sep = '|')\n"
   ]
  },
  {
   "cell_type": "code",
   "execution_count": null,
   "metadata": {},
   "outputs": [],
   "source": []
  },
  {
   "cell_type": "code",
   "execution_count": null,
   "metadata": {},
   "outputs": [],
   "source": []
  }
 ],
 "metadata": {
  "kernelspec": {
   "display_name": "extraccion",
   "language": "python",
   "name": "extraccion"
  },
  "language_info": {
   "codemirror_mode": {
    "name": "ipython",
    "version": 3
   },
   "file_extension": ".py",
   "mimetype": "text/x-python",
   "name": "python",
   "nbconvert_exporter": "python",
   "pygments_lexer": "ipython3",
   "version": "3.9.15"
  }
 },
 "nbformat": 4,
 "nbformat_minor": 4
}
